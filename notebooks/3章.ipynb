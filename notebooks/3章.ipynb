{
 "cells": [
  {
   "cell_type": "code",
   "execution_count": 1,
   "metadata": {
    "ExecuteTime": {
     "end_time": "2019-05-02T12:44:52.831891Z",
     "start_time": "2019-05-02T12:44:51.804671Z"
    }
   },
   "outputs": [],
   "source": [
    "import gc\n",
    "import sys\n",
    "\n",
    "import pandas as pd\n",
    "import numpy as np\n",
    "import matplotlib.pyplot as plt"
   ]
  },
  {
   "cell_type": "code",
   "execution_count": 2,
   "metadata": {
    "ExecuteTime": {
     "end_time": "2019-05-02T12:45:00.912127Z",
     "start_time": "2019-05-02T12:45:00.908286Z"
    }
   },
   "outputs": [],
   "source": [
    "sys.path.append('..')\n",
    "gc.enable()"
   ]
  },
  {
   "cell_type": "markdown",
   "metadata": {},
   "source": [
    "# 3章 word2vec"
   ]
  },
  {
   "cell_type": "markdown",
   "metadata": {},
   "source": [
    "## 推論ベースの手法とニューラルネットワーク"
   ]
  },
  {
   "cell_type": "markdown",
   "metadata": {},
   "source": [
    "### カウントベースの手法の問題点"
   ]
  },
  {
   "cell_type": "markdown",
   "metadata": {},
   "source": [
    "### 推論ベースの手法の概要"
   ]
  },
  {
   "cell_type": "markdown",
   "metadata": {},
   "source": [
    "### ニューラルネットワークにおける単語の処理方法"
   ]
  },
  {
   "cell_type": "code",
   "execution_count": 3,
   "metadata": {
    "ExecuteTime": {
     "end_time": "2019-05-02T12:56:14.661846Z",
     "start_time": "2019-05-02T12:56:14.658594Z"
    }
   },
   "outputs": [],
   "source": [
    "from common.layers import MatMul"
   ]
  },
  {
   "cell_type": "code",
   "execution_count": 4,
   "metadata": {
    "ExecuteTime": {
     "end_time": "2019-05-02T12:56:55.192849Z",
     "start_time": "2019-05-02T12:56:55.174281Z"
    }
   },
   "outputs": [
    {
     "data": {
      "text/plain": [
       "array([[ 0.4448807 , -0.58547683, -0.93553739]])"
      ]
     },
     "execution_count": 4,
     "metadata": {},
     "output_type": "execute_result"
    }
   ],
   "source": [
    "c = np.array([[1, 0, 0, 0, 0, 0, 0]])\n",
    "W = np.random.randn(7, 3)\n",
    "layer = MatMul(W)\n",
    "h = layer.forward(c)\n",
    "h"
   ]
  },
  {
   "cell_type": "markdown",
   "metadata": {},
   "source": [
    "## シンプルなword2vec"
   ]
  },
  {
   "cell_type": "markdown",
   "metadata": {},
   "source": [
    "### CBOWモデルの推論処理"
   ]
  },
  {
   "cell_type": "code",
   "execution_count": 6,
   "metadata": {
    "ExecuteTime": {
     "end_time": "2019-05-02T13:08:57.474703Z",
     "start_time": "2019-05-02T13:08:57.470163Z"
    }
   },
   "outputs": [],
   "source": [
    "# サンプルのコンテキストデータ\n",
    "c0 = np.array([[1, 0, 0, 0, 0, 0, 0]])\n",
    "c1 = np.array([[0, 0, 1, 0, 0, 0, 0]])"
   ]
  },
  {
   "cell_type": "code",
   "execution_count": 7,
   "metadata": {
    "ExecuteTime": {
     "end_time": "2019-05-02T13:09:25.928222Z",
     "start_time": "2019-05-02T13:09:25.922421Z"
    }
   },
   "outputs": [],
   "source": [
    "# 重みの初期化\n",
    "W_in = np.random.randn(7, 3)\n",
    "W_out = np.random.randn(3, 7)"
   ]
  },
  {
   "cell_type": "code",
   "execution_count": 8,
   "metadata": {
    "ExecuteTime": {
     "end_time": "2019-05-02T13:10:06.901329Z",
     "start_time": "2019-05-02T13:10:06.897623Z"
    }
   },
   "outputs": [],
   "source": [
    "# レイヤの生成\n",
    "in_layer0 = MatMul(W_in)\n",
    "in_layer1 = MatMul(W_in)\n",
    "out_layer = MatMul(W_out)"
   ]
  },
  {
   "cell_type": "code",
   "execution_count": 9,
   "metadata": {
    "ExecuteTime": {
     "end_time": "2019-05-02T13:11:04.855609Z",
     "start_time": "2019-05-02T13:11:04.847248Z"
    }
   },
   "outputs": [
    {
     "data": {
      "text/plain": [
       "array([[ 0.05606128,  1.92373019, -4.63564149, -1.67415887, -1.90592774,\n",
       "        -0.05539819, -2.33903101]])"
      ]
     },
     "execution_count": 9,
     "metadata": {},
     "output_type": "execute_result"
    }
   ],
   "source": [
    "# 順伝播\n",
    "h0 = in_layer0.forward(c0)\n",
    "h1 = in_layer1.forward(c1)\n",
    "h = 0.5 * (h0 + h1)\n",
    "s = out_layer.forward(h)\n",
    "s"
   ]
  },
  {
   "cell_type": "markdown",
   "metadata": {},
   "source": [
    "### CBOWモデルの学習"
   ]
  },
  {
   "cell_type": "markdown",
   "metadata": {},
   "source": [
    "### word2vecの重みと分散表現"
   ]
  },
  {
   "cell_type": "markdown",
   "metadata": {},
   "source": [
    "## 学習データの準備"
   ]
  },
  {
   "cell_type": "code",
   "execution_count": 10,
   "metadata": {
    "ExecuteTime": {
     "end_time": "2019-05-02T13:21:57.021837Z",
     "start_time": "2019-05-02T13:21:57.018428Z"
    }
   },
   "outputs": [],
   "source": [
    "from common.util import preprocess"
   ]
  },
  {
   "cell_type": "code",
   "execution_count": 11,
   "metadata": {
    "ExecuteTime": {
     "end_time": "2019-05-02T13:22:10.738394Z",
     "start_time": "2019-05-02T13:22:10.734873Z"
    }
   },
   "outputs": [],
   "source": [
    "text = 'You say goodbye and I say hello.'"
   ]
  },
  {
   "cell_type": "code",
   "execution_count": 12,
   "metadata": {
    "ExecuteTime": {
     "end_time": "2019-05-02T13:22:30.091153Z",
     "start_time": "2019-05-02T13:22:30.077479Z"
    }
   },
   "outputs": [
    {
     "data": {
      "text/plain": [
       "array([0, 1, 2, 3, 4, 1, 5, 6])"
      ]
     },
     "execution_count": 12,
     "metadata": {},
     "output_type": "execute_result"
    }
   ],
   "source": [
    "corpus, word_to_id, id_to_word = preprocess(text)\n",
    "corpus"
   ]
  },
  {
   "cell_type": "code",
   "execution_count": 14,
   "metadata": {
    "ExecuteTime": {
     "end_time": "2019-05-02T13:32:13.607667Z",
     "start_time": "2019-05-02T13:32:13.604154Z"
    }
   },
   "outputs": [],
   "source": [
    "from common.util import create_contexts_target"
   ]
  },
  {
   "cell_type": "code",
   "execution_count": 15,
   "metadata": {
    "ExecuteTime": {
     "end_time": "2019-05-02T13:32:26.142851Z",
     "start_time": "2019-05-02T13:32:26.136490Z"
    }
   },
   "outputs": [],
   "source": [
    "contexts, target = create_contexts_target(corpus, window_size=1)"
   ]
  },
  {
   "cell_type": "code",
   "execution_count": 16,
   "metadata": {
    "ExecuteTime": {
     "end_time": "2019-05-02T13:32:31.189242Z",
     "start_time": "2019-05-02T13:32:31.182411Z"
    }
   },
   "outputs": [
    {
     "data": {
      "text/plain": [
       "array([[0, 2],\n",
       "       [1, 3],\n",
       "       [2, 4],\n",
       "       [3, 1],\n",
       "       [4, 5],\n",
       "       [1, 6]])"
      ]
     },
     "execution_count": 16,
     "metadata": {},
     "output_type": "execute_result"
    }
   ],
   "source": [
    "contexts"
   ]
  },
  {
   "cell_type": "code",
   "execution_count": 17,
   "metadata": {
    "ExecuteTime": {
     "end_time": "2019-05-02T13:32:33.194696Z",
     "start_time": "2019-05-02T13:32:33.189391Z"
    }
   },
   "outputs": [
    {
     "data": {
      "text/plain": [
       "array([1, 2, 3, 4, 1, 5])"
      ]
     },
     "execution_count": 17,
     "metadata": {},
     "output_type": "execute_result"
    }
   ],
   "source": [
    "target"
   ]
  },
  {
   "cell_type": "code",
   "execution_count": 18,
   "metadata": {
    "ExecuteTime": {
     "end_time": "2019-05-02T13:33:41.898626Z",
     "start_time": "2019-05-02T13:33:41.895063Z"
    }
   },
   "outputs": [],
   "source": [
    "from common.util import convert_one_hot"
   ]
  },
  {
   "cell_type": "code",
   "execution_count": 21,
   "metadata": {
    "ExecuteTime": {
     "end_time": "2019-05-02T13:35:22.527755Z",
     "start_time": "2019-05-02T13:35:22.523843Z"
    }
   },
   "outputs": [],
   "source": [
    "vocab_size = len(word_to_id)\n",
    "target = convert_one_hot(target, vocab_size)\n",
    "contexts = convert_one_hot(contexts, vocab_size)"
   ]
  },
  {
   "cell_type": "markdown",
   "metadata": {},
   "source": [
    "## CBOWモデルの実装"
   ]
  },
  {
   "cell_type": "code",
   "execution_count": 23,
   "metadata": {
    "ExecuteTime": {
     "end_time": "2019-05-04T04:59:24.686280Z",
     "start_time": "2019-05-04T04:59:24.662158Z"
    }
   },
   "outputs": [],
   "source": [
    "from common.layers import MatMul, SoftmaxWithLoss"
   ]
  },
  {
   "cell_type": "code",
   "execution_count": 30,
   "metadata": {
    "ExecuteTime": {
     "end_time": "2019-05-04T05:30:27.723812Z",
     "start_time": "2019-05-04T05:30:27.705260Z"
    }
   },
   "outputs": [],
   "source": [
    "class SimpleCBOW:\n",
    "    def __init__(self, vocab_size, hidden_size):\n",
    "        V, H = vocab_size, hidden_size\n",
    "        \n",
    "        #重みの初期化\n",
    "        W_in = 0.01 * np.random.randn(V, H).astype('f')\n",
    "        W_out = 0.01 * np.random.randn(H, V).astype('f')\n",
    "        \n",
    "        # レイヤの生成\n",
    "        self.in_layer0 = MatMul(W_in)\n",
    "        self.in_layer1 = MatMul(W_in)\n",
    "        self.out_layer = MatMul(W_out)\n",
    "        self.loss_layer = SoftmaxWithLoss()\n",
    "        \n",
    "        # すべての重みと購買をリストにまとめる\n",
    "        layers = [self.in_layer0,\n",
    "                  self.in_layer1,\n",
    "                  self.out_layer]\n",
    "        self.params, self.grads = [], []\n",
    "        for layer in layers:\n",
    "            self.params += layer.params\n",
    "            self.grads += layer.grads\n",
    "        \n",
    "        # メンバ変数に単語の分散表現を設定\n",
    "        self.word_vecs = W_in\n",
    "    \n",
    "    def forward(self, contexts, target):\n",
    "        h0 = self.in_layer0.forward(contexts[:, 0])\n",
    "        h1 = self.in_layer1.forward(contexts[:, 1])\n",
    "        h = (h0 + h1) * 0.5\n",
    "        score = self.out_layer.forward(h)\n",
    "        loss = self.loss_layer.forward(score, target)\n",
    "        return loss\n",
    "    \n",
    "    def backward(self, dout=1):\n",
    "        ds = self.loss_layer.backward(dout)\n",
    "        da = self.out_layer.backward(ds)\n",
    "        da *= 0.5\n",
    "        self.in_layer1.backward(da)\n",
    "        self.in_layer0.backward(da)\n",
    "        return None"
   ]
  },
  {
   "cell_type": "code",
   "execution_count": 31,
   "metadata": {
    "ExecuteTime": {
     "end_time": "2019-05-04T05:35:27.487699Z",
     "start_time": "2019-05-04T05:35:27.480505Z"
    }
   },
   "outputs": [],
   "source": [
    "from common.trainer import Trainer\n",
    "from common.optimizer import Adam\n",
    "from common.util import (preprocess,\n",
    "                         create_contexts_target,\n",
    "                         convert_one_hot)"
   ]
  },
  {
   "cell_type": "code",
   "execution_count": 40,
   "metadata": {
    "ExecuteTime": {
     "end_time": "2019-05-04T05:39:36.236566Z",
     "start_time": "2019-05-04T05:39:36.231179Z"
    }
   },
   "outputs": [],
   "source": [
    "window_size = 1\n",
    "hidden_size = 5\n",
    "batch_size = 3\n",
    "max_epoch = 1000"
   ]
  },
  {
   "cell_type": "code",
   "execution_count": 33,
   "metadata": {
    "ExecuteTime": {
     "end_time": "2019-05-04T05:36:17.968756Z",
     "start_time": "2019-05-04T05:36:17.965160Z"
    }
   },
   "outputs": [],
   "source": [
    "text = 'You say goodbye and I say hello.'\n",
    "corpus, word_to_id, id_to_word = preprocess(text)"
   ]
  },
  {
   "cell_type": "code",
   "execution_count": 35,
   "metadata": {
    "ExecuteTime": {
     "end_time": "2019-05-04T05:37:53.496697Z",
     "start_time": "2019-05-04T05:37:53.493195Z"
    }
   },
   "outputs": [],
   "source": [
    "vocab_size = len(word_to_id)\n",
    "contexts, target = create_contexts_target(corpus, window_size)\n",
    "target = convert_one_hot(target, vocab_size)\n",
    "contexts = convert_one_hot(contexts, vocab_size)"
   ]
  },
  {
   "cell_type": "code",
   "execution_count": 38,
   "metadata": {
    "ExecuteTime": {
     "end_time": "2019-05-04T05:39:01.989954Z",
     "start_time": "2019-05-04T05:39:01.985820Z"
    }
   },
   "outputs": [],
   "source": [
    "model = SimpleCBOW(vocab_size, hidden_size)\n",
    "optimizer = Adam()\n",
    "trainer = Trainer(model, optimizer)"
   ]
  },
  {
   "cell_type": "code",
   "execution_count": 41,
   "metadata": {
    "ExecuteTime": {
     "end_time": "2019-05-04T05:39:38.979063Z",
     "start_time": "2019-05-04T05:39:38.067032Z"
    }
   },
   "outputs": [
    {
     "name": "stdout",
     "output_type": "stream",
     "text": [
      "| epoch 1 |  iter 1 / 2 | time 0[s] | loss 1.95\n",
      "| epoch 2 |  iter 1 / 2 | time 0[s] | loss 1.95\n",
      "| epoch 3 |  iter 1 / 2 | time 0[s] | loss 1.95\n",
      "| epoch 4 |  iter 1 / 2 | time 0[s] | loss 1.95\n",
      "| epoch 5 |  iter 1 / 2 | time 0[s] | loss 1.95\n",
      "| epoch 6 |  iter 1 / 2 | time 0[s] | loss 1.95\n",
      "| epoch 7 |  iter 1 / 2 | time 0[s] | loss 1.95\n",
      "| epoch 8 |  iter 1 / 2 | time 0[s] | loss 1.95\n",
      "| epoch 9 |  iter 1 / 2 | time 0[s] | loss 1.95\n",
      "| epoch 10 |  iter 1 / 2 | time 0[s] | loss 1.94\n",
      "| epoch 11 |  iter 1 / 2 | time 0[s] | loss 1.94\n",
      "| epoch 12 |  iter 1 / 2 | time 0[s] | loss 1.94\n",
      "| epoch 13 |  iter 1 / 2 | time 0[s] | loss 1.94\n",
      "| epoch 14 |  iter 1 / 2 | time 0[s] | loss 1.94\n",
      "| epoch 15 |  iter 1 / 2 | time 0[s] | loss 1.94\n",
      "| epoch 16 |  iter 1 / 2 | time 0[s] | loss 1.94\n",
      "| epoch 17 |  iter 1 / 2 | time 0[s] | loss 1.94\n",
      "| epoch 18 |  iter 1 / 2 | time 0[s] | loss 1.94\n",
      "| epoch 19 |  iter 1 / 2 | time 0[s] | loss 1.94\n",
      "| epoch 20 |  iter 1 / 2 | time 0[s] | loss 1.94\n",
      "| epoch 21 |  iter 1 / 2 | time 0[s] | loss 1.94\n",
      "| epoch 22 |  iter 1 / 2 | time 0[s] | loss 1.94\n",
      "| epoch 23 |  iter 1 / 2 | time 0[s] | loss 1.94\n",
      "| epoch 24 |  iter 1 / 2 | time 0[s] | loss 1.94\n",
      "| epoch 25 |  iter 1 / 2 | time 0[s] | loss 1.94\n",
      "| epoch 26 |  iter 1 / 2 | time 0[s] | loss 1.94\n",
      "| epoch 27 |  iter 1 / 2 | time 0[s] | loss 1.94\n",
      "| epoch 28 |  iter 1 / 2 | time 0[s] | loss 1.94\n",
      "| epoch 29 |  iter 1 / 2 | time 0[s] | loss 1.93\n",
      "| epoch 30 |  iter 1 / 2 | time 0[s] | loss 1.93\n",
      "| epoch 31 |  iter 1 / 2 | time 0[s] | loss 1.93\n",
      "| epoch 32 |  iter 1 / 2 | time 0[s] | loss 1.93\n",
      "| epoch 33 |  iter 1 / 2 | time 0[s] | loss 1.93\n",
      "| epoch 34 |  iter 1 / 2 | time 0[s] | loss 1.93\n",
      "| epoch 35 |  iter 1 / 2 | time 0[s] | loss 1.93\n",
      "| epoch 36 |  iter 1 / 2 | time 0[s] | loss 1.93\n",
      "| epoch 37 |  iter 1 / 2 | time 0[s] | loss 1.93\n",
      "| epoch 38 |  iter 1 / 2 | time 0[s] | loss 1.92\n",
      "| epoch 39 |  iter 1 / 2 | time 0[s] | loss 1.92\n",
      "| epoch 40 |  iter 1 / 2 | time 0[s] | loss 1.92\n",
      "| epoch 41 |  iter 1 / 2 | time 0[s] | loss 1.92\n",
      "| epoch 42 |  iter 1 / 2 | time 0[s] | loss 1.92\n",
      "| epoch 43 |  iter 1 / 2 | time 0[s] | loss 1.92\n",
      "| epoch 44 |  iter 1 / 2 | time 0[s] | loss 1.91\n",
      "| epoch 45 |  iter 1 / 2 | time 0[s] | loss 1.91\n",
      "| epoch 46 |  iter 1 / 2 | time 0[s] | loss 1.91\n",
      "| epoch 47 |  iter 1 / 2 | time 0[s] | loss 1.91\n",
      "| epoch 48 |  iter 1 / 2 | time 0[s] | loss 1.90\n",
      "| epoch 49 |  iter 1 / 2 | time 0[s] | loss 1.90\n",
      "| epoch 50 |  iter 1 / 2 | time 0[s] | loss 1.90\n",
      "| epoch 51 |  iter 1 / 2 | time 0[s] | loss 1.90\n",
      "| epoch 52 |  iter 1 / 2 | time 0[s] | loss 1.90\n",
      "| epoch 53 |  iter 1 / 2 | time 0[s] | loss 1.89\n",
      "| epoch 54 |  iter 1 / 2 | time 0[s] | loss 1.89\n",
      "| epoch 55 |  iter 1 / 2 | time 0[s] | loss 1.89\n",
      "| epoch 56 |  iter 1 / 2 | time 0[s] | loss 1.89\n",
      "| epoch 57 |  iter 1 / 2 | time 0[s] | loss 1.89\n",
      "| epoch 58 |  iter 1 / 2 | time 0[s] | loss 1.88\n",
      "| epoch 59 |  iter 1 / 2 | time 0[s] | loss 1.89\n",
      "| epoch 60 |  iter 1 / 2 | time 0[s] | loss 1.87\n",
      "| epoch 61 |  iter 1 / 2 | time 0[s] | loss 1.87\n",
      "| epoch 62 |  iter 1 / 2 | time 0[s] | loss 1.88\n",
      "| epoch 63 |  iter 1 / 2 | time 0[s] | loss 1.87\n",
      "| epoch 64 |  iter 1 / 2 | time 0[s] | loss 1.87\n",
      "| epoch 65 |  iter 1 / 2 | time 0[s] | loss 1.86\n",
      "| epoch 66 |  iter 1 / 2 | time 0[s] | loss 1.86\n",
      "| epoch 67 |  iter 1 / 2 | time 0[s] | loss 1.85\n",
      "| epoch 68 |  iter 1 / 2 | time 0[s] | loss 1.86\n",
      "| epoch 69 |  iter 1 / 2 | time 0[s] | loss 1.84\n",
      "| epoch 70 |  iter 1 / 2 | time 0[s] | loss 1.85\n",
      "| epoch 71 |  iter 1 / 2 | time 0[s] | loss 1.83\n",
      "| epoch 72 |  iter 1 / 2 | time 0[s] | loss 1.84\n",
      "| epoch 73 |  iter 1 / 2 | time 0[s] | loss 1.83\n",
      "| epoch 74 |  iter 1 / 2 | time 0[s] | loss 1.83\n",
      "| epoch 75 |  iter 1 / 2 | time 0[s] | loss 1.83\n",
      "| epoch 76 |  iter 1 / 2 | time 0[s] | loss 1.82\n",
      "| epoch 77 |  iter 1 / 2 | time 0[s] | loss 1.83\n",
      "| epoch 78 |  iter 1 / 2 | time 0[s] | loss 1.82\n",
      "| epoch 79 |  iter 1 / 2 | time 0[s] | loss 1.80\n",
      "| epoch 80 |  iter 1 / 2 | time 0[s] | loss 1.82\n",
      "| epoch 81 |  iter 1 / 2 | time 0[s] | loss 1.81\n",
      "| epoch 82 |  iter 1 / 2 | time 0[s] | loss 1.80\n",
      "| epoch 83 |  iter 1 / 2 | time 0[s] | loss 1.79\n",
      "| epoch 84 |  iter 1 / 2 | time 0[s] | loss 1.80\n",
      "| epoch 85 |  iter 1 / 2 | time 0[s] | loss 1.78\n",
      "| epoch 86 |  iter 1 / 2 | time 0[s] | loss 1.80\n",
      "| epoch 87 |  iter 1 / 2 | time 0[s] | loss 1.77\n",
      "| epoch 88 |  iter 1 / 2 | time 0[s] | loss 1.76\n",
      "| epoch 89 |  iter 1 / 2 | time 0[s] | loss 1.79\n",
      "| epoch 90 |  iter 1 / 2 | time 0[s] | loss 1.78\n",
      "| epoch 91 |  iter 1 / 2 | time 0[s] | loss 1.75\n",
      "| epoch 92 |  iter 1 / 2 | time 0[s] | loss 1.76\n",
      "| epoch 93 |  iter 1 / 2 | time 0[s] | loss 1.75\n",
      "| epoch 94 |  iter 1 / 2 | time 0[s] | loss 1.76\n",
      "| epoch 95 |  iter 1 / 2 | time 0[s] | loss 1.75\n",
      "| epoch 96 |  iter 1 / 2 | time 0[s] | loss 1.74\n",
      "| epoch 97 |  iter 1 / 2 | time 0[s] | loss 1.74\n",
      "| epoch 98 |  iter 1 / 2 | time 0[s] | loss 1.75\n",
      "| epoch 99 |  iter 1 / 2 | time 0[s] | loss 1.73\n",
      "| epoch 100 |  iter 1 / 2 | time 0[s] | loss 1.71\n",
      "| epoch 101 |  iter 1 / 2 | time 0[s] | loss 1.70\n",
      "| epoch 102 |  iter 1 / 2 | time 0[s] | loss 1.73\n",
      "| epoch 103 |  iter 1 / 2 | time 0[s] | loss 1.73\n",
      "| epoch 104 |  iter 1 / 2 | time 0[s] | loss 1.69\n",
      "| epoch 105 |  iter 1 / 2 | time 0[s] | loss 1.70\n",
      "| epoch 106 |  iter 1 / 2 | time 0[s] | loss 1.71\n",
      "| epoch 107 |  iter 1 / 2 | time 0[s] | loss 1.70\n",
      "| epoch 108 |  iter 1 / 2 | time 0[s] | loss 1.68\n",
      "| epoch 109 |  iter 1 / 2 | time 0[s] | loss 1.67\n",
      "| epoch 110 |  iter 1 / 2 | time 0[s] | loss 1.67\n",
      "| epoch 111 |  iter 1 / 2 | time 0[s] | loss 1.67\n",
      "| epoch 112 |  iter 1 / 2 | time 0[s] | loss 1.69\n",
      "| epoch 113 |  iter 1 / 2 | time 0[s] | loss 1.64\n",
      "| epoch 114 |  iter 1 / 2 | time 0[s] | loss 1.66\n",
      "| epoch 115 |  iter 1 / 2 | time 0[s] | loss 1.67\n",
      "| epoch 116 |  iter 1 / 2 | time 0[s] | loss 1.62\n",
      "| epoch 117 |  iter 1 / 2 | time 0[s] | loss 1.68\n",
      "| epoch 118 |  iter 1 / 2 | time 0[s] | loss 1.63\n",
      "| epoch 119 |  iter 1 / 2 | time 0[s] | loss 1.61\n",
      "| epoch 120 |  iter 1 / 2 | time 0[s] | loss 1.63\n",
      "| epoch 121 |  iter 1 / 2 | time 0[s] | loss 1.65\n",
      "| epoch 122 |  iter 1 / 2 | time 0[s] | loss 1.65\n",
      "| epoch 123 |  iter 1 / 2 | time 0[s] | loss 1.56\n",
      "| epoch 124 |  iter 1 / 2 | time 0[s] | loss 1.66\n",
      "| epoch 125 |  iter 1 / 2 | time 0[s] | loss 1.55\n",
      "| epoch 126 |  iter 1 / 2 | time 0[s] | loss 1.61\n",
      "| epoch 127 |  iter 1 / 2 | time 0[s] | loss 1.57\n",
      "| epoch 128 |  iter 1 / 2 | time 0[s] | loss 1.61\n",
      "| epoch 129 |  iter 1 / 2 | time 0[s] | loss 1.56\n",
      "| epoch 130 |  iter 1 / 2 | time 0[s] | loss 1.60\n",
      "| epoch 131 |  iter 1 / 2 | time 0[s] | loss 1.57\n",
      "| epoch 132 |  iter 1 / 2 | time 0[s] | loss 1.51\n",
      "| epoch 133 |  iter 1 / 2 | time 0[s] | loss 1.60\n",
      "| epoch 134 |  iter 1 / 2 | time 0[s] | loss 1.59\n",
      "| epoch 135 |  iter 1 / 2 | time 0[s] | loss 1.50\n",
      "| epoch 136 |  iter 1 / 2 | time 0[s] | loss 1.56\n",
      "| epoch 137 |  iter 1 / 2 | time 0[s] | loss 1.58\n",
      "| epoch 138 |  iter 1 / 2 | time 0[s] | loss 1.50\n",
      "| epoch 139 |  iter 1 / 2 | time 0[s] | loss 1.49\n",
      "| epoch 140 |  iter 1 / 2 | time 0[s] | loss 1.56\n",
      "| epoch 141 |  iter 1 / 2 | time 0[s] | loss 1.54\n",
      "| epoch 142 |  iter 1 / 2 | time 0[s] | loss 1.50\n",
      "| epoch 143 |  iter 1 / 2 | time 0[s] | loss 1.49\n",
      "| epoch 144 |  iter 1 / 2 | time 0[s] | loss 1.52\n",
      "| epoch 145 |  iter 1 / 2 | time 0[s] | loss 1.56\n",
      "| epoch 146 |  iter 1 / 2 | time 0[s] | loss 1.46\n",
      "| epoch 147 |  iter 1 / 2 | time 0[s] | loss 1.51\n",
      "| epoch 148 |  iter 1 / 2 | time 0[s] | loss 1.44\n",
      "| epoch 149 |  iter 1 / 2 | time 0[s] | loss 1.48\n",
      "| epoch 150 |  iter 1 / 2 | time 0[s] | loss 1.50\n",
      "| epoch 151 |  iter 1 / 2 | time 0[s] | loss 1.45\n",
      "| epoch 152 |  iter 1 / 2 | time 0[s] | loss 1.47\n",
      "| epoch 153 |  iter 1 / 2 | time 0[s] | loss 1.50\n",
      "| epoch 154 |  iter 1 / 2 | time 0[s] | loss 1.46\n",
      "| epoch 155 |  iter 1 / 2 | time 0[s] | loss 1.42\n",
      "| epoch 156 |  iter 1 / 2 | time 0[s] | loss 1.42\n",
      "| epoch 157 |  iter 1 / 2 | time 0[s] | loss 1.46\n",
      "| epoch 158 |  iter 1 / 2 | time 0[s] | loss 1.46\n",
      "| epoch 159 |  iter 1 / 2 | time 0[s] | loss 1.39\n",
      "| epoch 160 |  iter 1 / 2 | time 0[s] | loss 1.40\n",
      "| epoch 161 |  iter 1 / 2 | time 0[s] | loss 1.40\n",
      "| epoch 162 |  iter 1 / 2 | time 0[s] | loss 1.46\n",
      "| epoch 163 |  iter 1 / 2 | time 0[s] | loss 1.38\n",
      "| epoch 164 |  iter 1 / 2 | time 0[s] | loss 1.41\n",
      "| epoch 165 |  iter 1 / 2 | time 0[s] | loss 1.48\n",
      "| epoch 166 |  iter 1 / 2 | time 0[s] | loss 1.37\n",
      "| epoch 167 |  iter 1 / 2 | time 0[s] | loss 1.34\n",
      "| epoch 168 |  iter 1 / 2 | time 0[s] | loss 1.49\n",
      "| epoch 169 |  iter 1 / 2 | time 0[s] | loss 1.33\n",
      "| epoch 170 |  iter 1 / 2 | time 0[s] | loss 1.38\n",
      "| epoch 171 |  iter 1 / 2 | time 0[s] | loss 1.30\n",
      "| epoch 172 |  iter 1 / 2 | time 0[s] | loss 1.47\n",
      "| epoch 173 |  iter 1 / 2 | time 0[s] | loss 1.38\n",
      "| epoch 174 |  iter 1 / 2 | time 0[s] | loss 1.29\n",
      "| epoch 175 |  iter 1 / 2 | time 0[s] | loss 1.43\n",
      "| epoch 176 |  iter 1 / 2 | time 0[s] | loss 1.29\n",
      "| epoch 177 |  iter 1 / 2 | time 0[s] | loss 1.40\n",
      "| epoch 178 |  iter 1 / 2 | time 0[s] | loss 1.27\n",
      "| epoch 179 |  iter 1 / 2 | time 0[s] | loss 1.34\n",
      "| epoch 180 |  iter 1 / 2 | time 0[s] | loss 1.30\n",
      "| epoch 181 |  iter 1 / 2 | time 0[s] | loss 1.38\n",
      "| epoch 182 |  iter 1 / 2 | time 0[s] | loss 1.30\n",
      "| epoch 183 |  iter 1 / 2 | time 0[s] | loss 1.26\n",
      "| epoch 184 |  iter 1 / 2 | time 0[s] | loss 1.42\n",
      "| epoch 185 |  iter 1 / 2 | time 0[s] | loss 1.27\n",
      "| epoch 186 |  iter 1 / 2 | time 0[s] | loss 1.23\n",
      "| epoch 187 |  iter 1 / 2 | time 0[s] | loss 1.32\n",
      "| epoch 188 |  iter 1 / 2 | time 0[s] | loss 1.29\n",
      "| epoch 189 |  iter 1 / 2 | time 0[s] | loss 1.35\n",
      "| epoch 190 |  iter 1 / 2 | time 0[s] | loss 1.27\n",
      "| epoch 191 |  iter 1 / 2 | time 0[s] | loss 1.30\n",
      "| epoch 192 |  iter 1 / 2 | time 0[s] | loss 1.27\n",
      "| epoch 193 |  iter 1 / 2 | time 0[s] | loss 1.27\n",
      "| epoch 194 |  iter 1 / 2 | time 0[s] | loss 1.21\n",
      "| epoch 195 |  iter 1 / 2 | time 0[s] | loss 1.37\n",
      "| epoch 196 |  iter 1 / 2 | time 0[s] | loss 1.20\n",
      "| epoch 197 |  iter 1 / 2 | time 0[s] | loss 1.25\n",
      "| epoch 198 |  iter 1 / 2 | time 0[s] | loss 1.33\n",
      "| epoch 199 |  iter 1 / 2 | time 0[s] | loss 1.23\n",
      "| epoch 200 |  iter 1 / 2 | time 0[s] | loss 1.12\n",
      "| epoch 201 |  iter 1 / 2 | time 0[s] | loss 1.31\n",
      "| epoch 202 |  iter 1 / 2 | time 0[s] | loss 1.22\n",
      "| epoch 203 |  iter 1 / 2 | time 0[s] | loss 1.24\n",
      "| epoch 204 |  iter 1 / 2 | time 0[s] | loss 1.21\n",
      "| epoch 205 |  iter 1 / 2 | time 0[s] | loss 1.24\n",
      "| epoch 206 |  iter 1 / 2 | time 0[s] | loss 1.22\n",
      "| epoch 207 |  iter 1 / 2 | time 0[s] | loss 1.26\n",
      "| epoch 208 |  iter 1 / 2 | time 0[s] | loss 1.10\n",
      "| epoch 209 |  iter 1 / 2 | time 0[s] | loss 1.20\n",
      "| epoch 210 |  iter 1 / 2 | time 0[s] | loss 1.27\n",
      "| epoch 211 |  iter 1 / 2 | time 0[s] | loss 1.14\n",
      "| epoch 212 |  iter 1 / 2 | time 0[s] | loss 1.20\n",
      "| epoch 213 |  iter 1 / 2 | time 0[s] | loss 1.31\n",
      "| epoch 214 |  iter 1 / 2 | time 0[s] | loss 1.06\n",
      "| epoch 215 |  iter 1 / 2 | time 0[s] | loss 1.26\n",
      "| epoch 216 |  iter 1 / 2 | time 0[s] | loss 1.24\n",
      "| epoch 217 |  iter 1 / 2 | time 0[s] | loss 1.05\n",
      "| epoch 218 |  iter 1 / 2 | time 0[s] | loss 1.17\n"
     ]
    },
    {
     "name": "stdout",
     "output_type": "stream",
     "text": [
      "| epoch 219 |  iter 1 / 2 | time 0[s] | loss 1.17\n",
      "| epoch 220 |  iter 1 / 2 | time 0[s] | loss 1.23\n",
      "| epoch 221 |  iter 1 / 2 | time 0[s] | loss 1.16\n",
      "| epoch 222 |  iter 1 / 2 | time 0[s] | loss 1.16\n",
      "| epoch 223 |  iter 1 / 2 | time 0[s] | loss 1.16\n",
      "| epoch 224 |  iter 1 / 2 | time 0[s] | loss 1.22\n",
      "| epoch 225 |  iter 1 / 2 | time 0[s] | loss 1.09\n",
      "| epoch 226 |  iter 1 / 2 | time 0[s] | loss 1.15\n",
      "| epoch 227 |  iter 1 / 2 | time 0[s] | loss 1.13\n",
      "| epoch 228 |  iter 1 / 2 | time 0[s] | loss 1.20\n",
      "| epoch 229 |  iter 1 / 2 | time 0[s] | loss 1.08\n",
      "| epoch 230 |  iter 1 / 2 | time 0[s] | loss 1.13\n",
      "| epoch 231 |  iter 1 / 2 | time 0[s] | loss 1.12\n",
      "| epoch 232 |  iter 1 / 2 | time 0[s] | loss 1.13\n",
      "| epoch 233 |  iter 1 / 2 | time 0[s] | loss 1.12\n",
      "| epoch 234 |  iter 1 / 2 | time 0[s] | loss 1.19\n",
      "| epoch 235 |  iter 1 / 2 | time 0[s] | loss 0.98\n",
      "| epoch 236 |  iter 1 / 2 | time 0[s] | loss 1.17\n",
      "| epoch 237 |  iter 1 / 2 | time 0[s] | loss 1.11\n",
      "| epoch 238 |  iter 1 / 2 | time 0[s] | loss 1.11\n",
      "| epoch 239 |  iter 1 / 2 | time 0[s] | loss 1.17\n",
      "| epoch 240 |  iter 1 / 2 | time 0[s] | loss 1.03\n",
      "| epoch 241 |  iter 1 / 2 | time 0[s] | loss 1.10\n",
      "| epoch 242 |  iter 1 / 2 | time 0[s] | loss 1.10\n",
      "| epoch 243 |  iter 1 / 2 | time 0[s] | loss 1.16\n",
      "| epoch 244 |  iter 1 / 2 | time 0[s] | loss 0.96\n",
      "| epoch 245 |  iter 1 / 2 | time 0[s] | loss 1.15\n",
      "| epoch 246 |  iter 1 / 2 | time 0[s] | loss 1.01\n",
      "| epoch 247 |  iter 1 / 2 | time 0[s] | loss 1.15\n",
      "| epoch 248 |  iter 1 / 2 | time 0[s] | loss 1.01\n",
      "| epoch 249 |  iter 1 / 2 | time 0[s] | loss 1.21\n",
      "| epoch 250 |  iter 1 / 2 | time 0[s] | loss 1.00\n",
      "| epoch 251 |  iter 1 / 2 | time 0[s] | loss 1.06\n",
      "| epoch 252 |  iter 1 / 2 | time 0[s] | loss 0.99\n",
      "| epoch 253 |  iter 1 / 2 | time 0[s] | loss 1.14\n",
      "| epoch 254 |  iter 1 / 2 | time 0[s] | loss 1.05\n",
      "| epoch 255 |  iter 1 / 2 | time 0[s] | loss 1.06\n",
      "| epoch 256 |  iter 1 / 2 | time 0[s] | loss 1.05\n",
      "| epoch 257 |  iter 1 / 2 | time 0[s] | loss 1.05\n",
      "| epoch 258 |  iter 1 / 2 | time 0[s] | loss 1.04\n",
      "| epoch 259 |  iter 1 / 2 | time 0[s] | loss 1.05\n",
      "| epoch 260 |  iter 1 / 2 | time 0[s] | loss 0.96\n",
      "| epoch 261 |  iter 1 / 2 | time 0[s] | loss 1.05\n",
      "| epoch 262 |  iter 1 / 2 | time 0[s] | loss 1.03\n",
      "| epoch 263 |  iter 1 / 2 | time 0[s] | loss 1.03\n",
      "| epoch 264 |  iter 1 / 2 | time 0[s] | loss 1.11\n",
      "| epoch 265 |  iter 1 / 2 | time 0[s] | loss 0.95\n",
      "| epoch 266 |  iter 1 / 2 | time 0[s] | loss 1.02\n",
      "| epoch 267 |  iter 1 / 2 | time 0[s] | loss 1.09\n",
      "| epoch 268 |  iter 1 / 2 | time 0[s] | loss 1.04\n",
      "| epoch 269 |  iter 1 / 2 | time 0[s] | loss 0.93\n",
      "| epoch 270 |  iter 1 / 2 | time 0[s] | loss 1.17\n",
      "| epoch 271 |  iter 1 / 2 | time 0[s] | loss 0.93\n",
      "| epoch 272 |  iter 1 / 2 | time 0[s] | loss 0.94\n",
      "| epoch 273 |  iter 1 / 2 | time 0[s] | loss 1.07\n",
      "| epoch 274 |  iter 1 / 2 | time 0[s] | loss 1.02\n",
      "| epoch 275 |  iter 1 / 2 | time 0[s] | loss 1.07\n",
      "| epoch 276 |  iter 1 / 2 | time 0[s] | loss 0.92\n",
      "| epoch 277 |  iter 1 / 2 | time 0[s] | loss 0.99\n",
      "| epoch 278 |  iter 1 / 2 | time 0[s] | loss 1.02\n",
      "| epoch 279 |  iter 1 / 2 | time 0[s] | loss 1.04\n",
      "| epoch 280 |  iter 1 / 2 | time 0[s] | loss 1.01\n",
      "| epoch 281 |  iter 1 / 2 | time 0[s] | loss 0.93\n",
      "| epoch 282 |  iter 1 / 2 | time 0[s] | loss 1.06\n",
      "| epoch 283 |  iter 1 / 2 | time 0[s] | loss 0.91\n",
      "| epoch 284 |  iter 1 / 2 | time 0[s] | loss 0.88\n",
      "| epoch 285 |  iter 1 / 2 | time 0[s] | loss 1.07\n",
      "| epoch 286 |  iter 1 / 2 | time 0[s] | loss 0.99\n",
      "| epoch 287 |  iter 1 / 2 | time 0[s] | loss 0.87\n",
      "| epoch 288 |  iter 1 / 2 | time 0[s] | loss 1.05\n",
      "| epoch 289 |  iter 1 / 2 | time 0[s] | loss 0.97\n",
      "| epoch 290 |  iter 1 / 2 | time 0[s] | loss 0.99\n",
      "| epoch 291 |  iter 1 / 2 | time 0[s] | loss 0.97\n",
      "| epoch 292 |  iter 1 / 2 | time 0[s] | loss 0.96\n",
      "| epoch 293 |  iter 1 / 2 | time 0[s] | loss 0.85\n",
      "| epoch 294 |  iter 1 / 2 | time 0[s] | loss 1.05\n",
      "| epoch 295 |  iter 1 / 2 | time 0[s] | loss 0.93\n",
      "| epoch 296 |  iter 1 / 2 | time 0[s] | loss 1.07\n",
      "| epoch 297 |  iter 1 / 2 | time 0[s] | loss 0.87\n",
      "| epoch 298 |  iter 1 / 2 | time 0[s] | loss 0.92\n",
      "| epoch 299 |  iter 1 / 2 | time 0[s] | loss 0.95\n",
      "| epoch 300 |  iter 1 / 2 | time 0[s] | loss 0.94\n",
      "| epoch 301 |  iter 1 / 2 | time 0[s] | loss 0.94\n",
      "| epoch 302 |  iter 1 / 2 | time 0[s] | loss 1.04\n",
      "| epoch 303 |  iter 1 / 2 | time 0[s] | loss 0.86\n",
      "| epoch 304 |  iter 1 / 2 | time 0[s] | loss 0.97\n",
      "| epoch 305 |  iter 1 / 2 | time 0[s] | loss 0.96\n",
      "| epoch 306 |  iter 1 / 2 | time 0[s] | loss 0.88\n",
      "| epoch 307 |  iter 1 / 2 | time 0[s] | loss 0.96\n",
      "| epoch 308 |  iter 1 / 2 | time 0[s] | loss 0.83\n",
      "| epoch 309 |  iter 1 / 2 | time 0[s] | loss 1.08\n",
      "| epoch 310 |  iter 1 / 2 | time 0[s] | loss 0.85\n",
      "| epoch 311 |  iter 1 / 2 | time 0[s] | loss 0.93\n",
      "| epoch 312 |  iter 1 / 2 | time 0[s] | loss 0.94\n",
      "| epoch 313 |  iter 1 / 2 | time 0[s] | loss 0.85\n",
      "| epoch 314 |  iter 1 / 2 | time 0[s] | loss 0.89\n",
      "| epoch 315 |  iter 1 / 2 | time 0[s] | loss 0.99\n",
      "| epoch 316 |  iter 1 / 2 | time 0[s] | loss 0.94\n",
      "| epoch 317 |  iter 1 / 2 | time 0[s] | loss 0.91\n",
      "| epoch 318 |  iter 1 / 2 | time 0[s] | loss 0.84\n",
      "| epoch 319 |  iter 1 / 2 | time 0[s] | loss 0.86\n",
      "| epoch 320 |  iter 1 / 2 | time 0[s] | loss 1.03\n",
      "| epoch 321 |  iter 1 / 2 | time 0[s] | loss 0.88\n",
      "| epoch 322 |  iter 1 / 2 | time 0[s] | loss 0.90\n",
      "| epoch 323 |  iter 1 / 2 | time 0[s] | loss 0.97\n",
      "| epoch 324 |  iter 1 / 2 | time 0[s] | loss 0.85\n",
      "| epoch 325 |  iter 1 / 2 | time 0[s] | loss 0.84\n",
      "| epoch 326 |  iter 1 / 2 | time 0[s] | loss 0.93\n",
      "| epoch 327 |  iter 1 / 2 | time 0[s] | loss 0.86\n",
      "| epoch 328 |  iter 1 / 2 | time 0[s] | loss 1.02\n",
      "| epoch 329 |  iter 1 / 2 | time 0[s] | loss 0.78\n",
      "| epoch 330 |  iter 1 / 2 | time 0[s] | loss 0.92\n",
      "| epoch 331 |  iter 1 / 2 | time 0[s] | loss 0.90\n",
      "| epoch 332 |  iter 1 / 2 | time 0[s] | loss 0.80\n",
      "| epoch 333 |  iter 1 / 2 | time 0[s] | loss 0.95\n",
      "| epoch 334 |  iter 1 / 2 | time 0[s] | loss 0.85\n",
      "| epoch 335 |  iter 1 / 2 | time 0[s] | loss 0.92\n",
      "| epoch 336 |  iter 1 / 2 | time 0[s] | loss 0.92\n",
      "| epoch 337 |  iter 1 / 2 | time 0[s] | loss 0.73\n",
      "| epoch 338 |  iter 1 / 2 | time 0[s] | loss 1.06\n",
      "| epoch 339 |  iter 1 / 2 | time 0[s] | loss 0.74\n",
      "| epoch 340 |  iter 1 / 2 | time 0[s] | loss 1.01\n",
      "| epoch 341 |  iter 1 / 2 | time 0[s] | loss 0.80\n",
      "| epoch 342 |  iter 1 / 2 | time 0[s] | loss 0.87\n",
      "| epoch 343 |  iter 1 / 2 | time 0[s] | loss 0.73\n",
      "| epoch 344 |  iter 1 / 2 | time 0[s] | loss 1.00\n",
      "| epoch 345 |  iter 1 / 2 | time 0[s] | loss 0.94\n",
      "| epoch 346 |  iter 1 / 2 | time 0[s] | loss 0.75\n",
      "| epoch 347 |  iter 1 / 2 | time 0[s] | loss 0.76\n",
      "| epoch 348 |  iter 1 / 2 | time 0[s] | loss 0.93\n",
      "| epoch 349 |  iter 1 / 2 | time 0[s] | loss 0.82\n",
      "| epoch 350 |  iter 1 / 2 | time 0[s] | loss 0.86\n",
      "| epoch 351 |  iter 1 / 2 | time 0[s] | loss 1.04\n",
      "| epoch 352 |  iter 1 / 2 | time 0[s] | loss 0.78\n",
      "| epoch 353 |  iter 1 / 2 | time 0[s] | loss 0.89\n",
      "| epoch 354 |  iter 1 / 2 | time 0[s] | loss 0.88\n",
      "| epoch 355 |  iter 1 / 2 | time 0[s] | loss 0.70\n",
      "| epoch 356 |  iter 1 / 2 | time 0[s] | loss 0.88\n",
      "| epoch 357 |  iter 1 / 2 | time 0[s] | loss 0.81\n",
      "| epoch 358 |  iter 1 / 2 | time 0[s] | loss 0.92\n",
      "| epoch 359 |  iter 1 / 2 | time 0[s] | loss 0.81\n",
      "| epoch 360 |  iter 1 / 2 | time 0[s] | loss 0.81\n",
      "| epoch 361 |  iter 1 / 2 | time 0[s] | loss 0.91\n",
      "| epoch 362 |  iter 1 / 2 | time 0[s] | loss 0.76\n",
      "| epoch 363 |  iter 1 / 2 | time 0[s] | loss 0.77\n",
      "| epoch 364 |  iter 1 / 2 | time 0[s] | loss 0.94\n",
      "| epoch 365 |  iter 1 / 2 | time 0[s] | loss 0.79\n",
      "| epoch 366 |  iter 1 / 2 | time 0[s] | loss 0.92\n",
      "| epoch 367 |  iter 1 / 2 | time 0[s] | loss 0.72\n",
      "| epoch 368 |  iter 1 / 2 | time 0[s] | loss 0.86\n",
      "| epoch 369 |  iter 1 / 2 | time 0[s] | loss 0.83\n",
      "| epoch 370 |  iter 1 / 2 | time 0[s] | loss 0.83\n",
      "| epoch 371 |  iter 1 / 2 | time 0[s] | loss 0.91\n",
      "| epoch 372 |  iter 1 / 2 | time 0[s] | loss 0.74\n",
      "| epoch 373 |  iter 1 / 2 | time 0[s] | loss 0.86\n",
      "| epoch 374 |  iter 1 / 2 | time 0[s] | loss 0.78\n",
      "| epoch 375 |  iter 1 / 2 | time 0[s] | loss 0.79\n",
      "| epoch 376 |  iter 1 / 2 | time 0[s] | loss 0.94\n",
      "| epoch 377 |  iter 1 / 2 | time 0[s] | loss 0.82\n",
      "| epoch 378 |  iter 1 / 2 | time 0[s] | loss 0.73\n",
      "| epoch 379 |  iter 1 / 2 | time 0[s] | loss 0.74\n",
      "| epoch 380 |  iter 1 / 2 | time 0[s] | loss 0.88\n",
      "| epoch 381 |  iter 1 / 2 | time 0[s] | loss 0.84\n",
      "| epoch 382 |  iter 1 / 2 | time 0[s] | loss 0.79\n",
      "| epoch 383 |  iter 1 / 2 | time 0[s] | loss 0.86\n",
      "| epoch 384 |  iter 1 / 2 | time 0[s] | loss 0.76\n",
      "| epoch 385 |  iter 1 / 2 | time 0[s] | loss 0.83\n",
      "| epoch 386 |  iter 1 / 2 | time 0[s] | loss 0.83\n",
      "| epoch 387 |  iter 1 / 2 | time 0[s] | loss 0.75\n",
      "| epoch 388 |  iter 1 / 2 | time 0[s] | loss 0.90\n",
      "| epoch 389 |  iter 1 / 2 | time 0[s] | loss 0.83\n",
      "| epoch 390 |  iter 1 / 2 | time 0[s] | loss 0.78\n",
      "| epoch 391 |  iter 1 / 2 | time 0[s] | loss 0.82\n",
      "| epoch 392 |  iter 1 / 2 | time 0[s] | loss 0.80\n",
      "| epoch 393 |  iter 1 / 2 | time 0[s] | loss 0.84\n",
      "| epoch 394 |  iter 1 / 2 | time 0[s] | loss 0.75\n",
      "| epoch 395 |  iter 1 / 2 | time 0[s] | loss 0.68\n",
      "| epoch 396 |  iter 1 / 2 | time 0[s] | loss 0.84\n",
      "| epoch 397 |  iter 1 / 2 | time 0[s] | loss 0.79\n",
      "| epoch 398 |  iter 1 / 2 | time 0[s] | loss 0.74\n",
      "| epoch 399 |  iter 1 / 2 | time 0[s] | loss 0.91\n",
      "| epoch 400 |  iter 1 / 2 | time 0[s] | loss 0.79\n",
      "| epoch 401 |  iter 1 / 2 | time 0[s] | loss 0.65\n",
      "| epoch 402 |  iter 1 / 2 | time 0[s] | loss 0.98\n",
      "| epoch 403 |  iter 1 / 2 | time 0[s] | loss 0.61\n",
      "| epoch 404 |  iter 1 / 2 | time 0[s] | loss 0.89\n",
      "| epoch 405 |  iter 1 / 2 | time 0[s] | loss 0.72\n",
      "| epoch 406 |  iter 1 / 2 | time 0[s] | loss 0.75\n",
      "| epoch 407 |  iter 1 / 2 | time 0[s] | loss 0.89\n",
      "| epoch 408 |  iter 1 / 2 | time 0[s] | loss 0.66\n",
      "| epoch 409 |  iter 1 / 2 | time 0[s] | loss 0.83\n",
      "| epoch 410 |  iter 1 / 2 | time 0[s] | loss 0.92\n",
      "| epoch 411 |  iter 1 / 2 | time 0[s] | loss 0.66\n",
      "| epoch 412 |  iter 1 / 2 | time 0[s] | loss 0.84\n",
      "| epoch 413 |  iter 1 / 2 | time 0[s] | loss 0.58\n",
      "| epoch 414 |  iter 1 / 2 | time 0[s] | loss 0.77\n",
      "| epoch 415 |  iter 1 / 2 | time 0[s] | loss 0.84\n",
      "| epoch 416 |  iter 1 / 2 | time 0[s] | loss 0.88\n",
      "| epoch 417 |  iter 1 / 2 | time 0[s] | loss 0.77\n",
      "| epoch 418 |  iter 1 / 2 | time 0[s] | loss 0.65\n",
      "| epoch 419 |  iter 1 / 2 | time 0[s] | loss 0.90\n",
      "| epoch 420 |  iter 1 / 2 | time 0[s] | loss 0.70\n",
      "| epoch 421 |  iter 1 / 2 | time 0[s] | loss 0.64\n",
      "| epoch 422 |  iter 1 / 2 | time 0[s] | loss 0.89\n",
      "| epoch 423 |  iter 1 / 2 | time 0[s] | loss 0.76\n"
     ]
    },
    {
     "name": "stdout",
     "output_type": "stream",
     "text": [
      "| epoch 424 |  iter 1 / 2 | time 0[s] | loss 0.89\n",
      "| epoch 425 |  iter 1 / 2 | time 0[s] | loss 0.69\n",
      "| epoch 426 |  iter 1 / 2 | time 0[s] | loss 0.69\n",
      "| epoch 427 |  iter 1 / 2 | time 0[s] | loss 0.84\n",
      "| epoch 428 |  iter 1 / 2 | time 0[s] | loss 0.64\n",
      "| epoch 429 |  iter 1 / 2 | time 0[s] | loss 0.88\n",
      "| epoch 430 |  iter 1 / 2 | time 0[s] | loss 0.63\n",
      "| epoch 431 |  iter 1 / 2 | time 0[s] | loss 0.70\n",
      "| epoch 432 |  iter 1 / 2 | time 0[s] | loss 0.89\n",
      "| epoch 433 |  iter 1 / 2 | time 0[s] | loss 0.74\n",
      "| epoch 434 |  iter 1 / 2 | time 0[s] | loss 0.70\n",
      "| epoch 435 |  iter 1 / 2 | time 0[s] | loss 0.74\n",
      "| epoch 436 |  iter 1 / 2 | time 0[s] | loss 0.82\n",
      "| epoch 437 |  iter 1 / 2 | time 0[s] | loss 0.75\n",
      "| epoch 438 |  iter 1 / 2 | time 0[s] | loss 0.75\n",
      "| epoch 439 |  iter 1 / 2 | time 0[s] | loss 0.82\n",
      "| epoch 440 |  iter 1 / 2 | time 0[s] | loss 0.62\n",
      "| epoch 441 |  iter 1 / 2 | time 0[s] | loss 0.82\n",
      "| epoch 442 |  iter 1 / 2 | time 0[s] | loss 0.87\n",
      "| epoch 443 |  iter 1 / 2 | time 0[s] | loss 0.68\n",
      "| epoch 444 |  iter 1 / 2 | time 0[s] | loss 0.74\n",
      "| epoch 445 |  iter 1 / 2 | time 0[s] | loss 0.75\n",
      "| epoch 446 |  iter 1 / 2 | time 0[s] | loss 0.67\n",
      "| epoch 447 |  iter 1 / 2 | time 0[s] | loss 0.88\n",
      "| epoch 448 |  iter 1 / 2 | time 0[s] | loss 0.55\n",
      "| epoch 449 |  iter 1 / 2 | time 0[s] | loss 0.74\n",
      "| epoch 450 |  iter 1 / 2 | time 0[s] | loss 0.74\n",
      "| epoch 451 |  iter 1 / 2 | time 0[s] | loss 0.74\n",
      "| epoch 452 |  iter 1 / 2 | time 0[s] | loss 0.93\n",
      "| epoch 453 |  iter 1 / 2 | time 0[s] | loss 0.54\n",
      "| epoch 454 |  iter 1 / 2 | time 0[s] | loss 0.73\n",
      "| epoch 455 |  iter 1 / 2 | time 0[s] | loss 0.86\n",
      "| epoch 456 |  iter 1 / 2 | time 0[s] | loss 0.67\n",
      "| epoch 457 |  iter 1 / 2 | time 0[s] | loss 0.72\n",
      "| epoch 458 |  iter 1 / 2 | time 0[s] | loss 0.67\n",
      "| epoch 459 |  iter 1 / 2 | time 0[s] | loss 0.73\n",
      "| epoch 460 |  iter 1 / 2 | time 0[s] | loss 0.86\n",
      "| epoch 461 |  iter 1 / 2 | time 0[s] | loss 0.73\n",
      "| epoch 462 |  iter 1 / 2 | time 0[s] | loss 0.73\n",
      "| epoch 463 |  iter 1 / 2 | time 0[s] | loss 0.67\n",
      "| epoch 464 |  iter 1 / 2 | time 0[s] | loss 0.66\n",
      "| epoch 465 |  iter 1 / 2 | time 0[s] | loss 0.66\n",
      "| epoch 466 |  iter 1 / 2 | time 0[s] | loss 0.85\n",
      "| epoch 467 |  iter 1 / 2 | time 0[s] | loss 0.66\n",
      "| epoch 468 |  iter 1 / 2 | time 0[s] | loss 0.78\n",
      "| epoch 469 |  iter 1 / 2 | time 0[s] | loss 0.73\n",
      "| epoch 470 |  iter 1 / 2 | time 0[s] | loss 0.85\n",
      "| epoch 471 |  iter 1 / 2 | time 0[s] | loss 0.72\n",
      "| epoch 472 |  iter 1 / 2 | time 0[s] | loss 0.52\n",
      "| epoch 473 |  iter 1 / 2 | time 0[s] | loss 0.72\n",
      "| epoch 474 |  iter 1 / 2 | time 0[s] | loss 0.84\n",
      "| epoch 475 |  iter 1 / 2 | time 0[s] | loss 0.66\n",
      "| epoch 476 |  iter 1 / 2 | time 0[s] | loss 0.65\n",
      "| epoch 477 |  iter 1 / 2 | time 0[s] | loss 0.71\n",
      "| epoch 478 |  iter 1 / 2 | time 0[s] | loss 0.65\n",
      "| epoch 479 |  iter 1 / 2 | time 0[s] | loss 0.78\n",
      "| epoch 480 |  iter 1 / 2 | time 0[s] | loss 0.85\n",
      "| epoch 481 |  iter 1 / 2 | time 0[s] | loss 0.78\n",
      "| epoch 482 |  iter 1 / 2 | time 0[s] | loss 0.51\n",
      "| epoch 483 |  iter 1 / 2 | time 0[s] | loss 0.72\n",
      "| epoch 484 |  iter 1 / 2 | time 0[s] | loss 0.78\n",
      "| epoch 485 |  iter 1 / 2 | time 0[s] | loss 0.64\n",
      "| epoch 486 |  iter 1 / 2 | time 0[s] | loss 0.83\n",
      "| epoch 487 |  iter 1 / 2 | time 0[s] | loss 0.59\n",
      "| epoch 488 |  iter 1 / 2 | time 0[s] | loss 0.83\n",
      "| epoch 489 |  iter 1 / 2 | time 0[s] | loss 0.64\n",
      "| epoch 490 |  iter 1 / 2 | time 0[s] | loss 0.58\n",
      "| epoch 491 |  iter 1 / 2 | time 0[s] | loss 0.83\n",
      "| epoch 492 |  iter 1 / 2 | time 0[s] | loss 0.70\n",
      "| epoch 493 |  iter 1 / 2 | time 0[s] | loss 0.78\n",
      "| epoch 494 |  iter 1 / 2 | time 0[s] | loss 0.64\n",
      "| epoch 495 |  iter 1 / 2 | time 0[s] | loss 0.56\n",
      "| epoch 496 |  iter 1 / 2 | time 0[s] | loss 0.84\n",
      "| epoch 497 |  iter 1 / 2 | time 0[s] | loss 0.75\n",
      "| epoch 498 |  iter 1 / 2 | time 0[s] | loss 0.71\n",
      "| epoch 499 |  iter 1 / 2 | time 0[s] | loss 0.77\n",
      "| epoch 500 |  iter 1 / 2 | time 0[s] | loss 0.57\n",
      "| epoch 501 |  iter 1 / 2 | time 0[s] | loss 0.62\n",
      "| epoch 502 |  iter 1 / 2 | time 0[s] | loss 0.63\n",
      "| epoch 503 |  iter 1 / 2 | time 0[s] | loss 0.90\n",
      "| epoch 504 |  iter 1 / 2 | time 0[s] | loss 0.70\n",
      "| epoch 505 |  iter 1 / 2 | time 0[s] | loss 0.70\n",
      "| epoch 506 |  iter 1 / 2 | time 0[s] | loss 0.68\n",
      "| epoch 507 |  iter 1 / 2 | time 0[s] | loss 0.69\n",
      "| epoch 508 |  iter 1 / 2 | time 0[s] | loss 0.57\n",
      "| epoch 509 |  iter 1 / 2 | time 0[s] | loss 0.83\n",
      "| epoch 510 |  iter 1 / 2 | time 0[s] | loss 0.69\n",
      "| epoch 511 |  iter 1 / 2 | time 0[s] | loss 0.63\n",
      "| epoch 512 |  iter 1 / 2 | time 0[s] | loss 0.69\n",
      "| epoch 513 |  iter 1 / 2 | time 0[s] | loss 0.67\n",
      "| epoch 514 |  iter 1 / 2 | time 0[s] | loss 0.69\n",
      "| epoch 515 |  iter 1 / 2 | time 0[s] | loss 0.62\n",
      "| epoch 516 |  iter 1 / 2 | time 0[s] | loss 0.83\n",
      "| epoch 517 |  iter 1 / 2 | time 0[s] | loss 0.54\n",
      "| epoch 518 |  iter 1 / 2 | time 0[s] | loss 0.83\n",
      "| epoch 519 |  iter 1 / 2 | time 0[s] | loss 0.67\n",
      "| epoch 520 |  iter 1 / 2 | time 0[s] | loss 0.56\n",
      "| epoch 521 |  iter 1 / 2 | time 0[s] | loss 0.68\n",
      "| epoch 522 |  iter 1 / 2 | time 0[s] | loss 0.77\n",
      "| epoch 523 |  iter 1 / 2 | time 0[s] | loss 0.62\n",
      "| epoch 524 |  iter 1 / 2 | time 0[s] | loss 0.75\n",
      "| epoch 525 |  iter 1 / 2 | time 0[s] | loss 0.54\n",
      "| epoch 526 |  iter 1 / 2 | time 0[s] | loss 0.75\n",
      "| epoch 527 |  iter 1 / 2 | time 0[s] | loss 0.76\n",
      "| epoch 528 |  iter 1 / 2 | time 0[s] | loss 0.62\n",
      "| epoch 529 |  iter 1 / 2 | time 0[s] | loss 0.66\n",
      "| epoch 530 |  iter 1 / 2 | time 0[s] | loss 0.68\n",
      "| epoch 531 |  iter 1 / 2 | time 0[s] | loss 0.74\n",
      "| epoch 532 |  iter 1 / 2 | time 0[s] | loss 0.70\n",
      "| epoch 533 |  iter 1 / 2 | time 0[s] | loss 0.59\n",
      "| epoch 534 |  iter 1 / 2 | time 0[s] | loss 0.74\n",
      "| epoch 535 |  iter 1 / 2 | time 0[s] | loss 0.61\n",
      "| epoch 536 |  iter 1 / 2 | time 0[s] | loss 0.83\n",
      "| epoch 537 |  iter 1 / 2 | time 0[s] | loss 0.55\n",
      "| epoch 538 |  iter 1 / 2 | time 0[s] | loss 0.74\n",
      "| epoch 539 |  iter 1 / 2 | time 0[s] | loss 0.59\n",
      "| epoch 540 |  iter 1 / 2 | time 0[s] | loss 0.67\n",
      "| epoch 541 |  iter 1 / 2 | time 0[s] | loss 0.70\n",
      "| epoch 542 |  iter 1 / 2 | time 0[s] | loss 0.80\n",
      "| epoch 543 |  iter 1 / 2 | time 0[s] | loss 0.61\n",
      "| epoch 544 |  iter 1 / 2 | time 0[s] | loss 0.59\n",
      "| epoch 545 |  iter 1 / 2 | time 0[s] | loss 0.67\n",
      "| epoch 546 |  iter 1 / 2 | time 0[s] | loss 0.67\n",
      "| epoch 547 |  iter 1 / 2 | time 0[s] | loss 0.69\n",
      "| epoch 548 |  iter 1 / 2 | time 0[s] | loss 0.71\n",
      "| epoch 549 |  iter 1 / 2 | time 0[s] | loss 0.73\n",
      "| epoch 550 |  iter 1 / 2 | time 0[s] | loss 0.69\n",
      "| epoch 551 |  iter 1 / 2 | time 0[s] | loss 0.65\n",
      "| epoch 552 |  iter 1 / 2 | time 0[s] | loss 0.69\n",
      "| epoch 553 |  iter 1 / 2 | time 0[s] | loss 0.67\n",
      "| epoch 554 |  iter 1 / 2 | time 0[s] | loss 0.60\n",
      "| epoch 555 |  iter 1 / 2 | time 0[s] | loss 0.64\n",
      "| epoch 556 |  iter 1 / 2 | time 0[s] | loss 0.75\n",
      "| epoch 557 |  iter 1 / 2 | time 0[s] | loss 0.64\n",
      "| epoch 558 |  iter 1 / 2 | time 0[s] | loss 0.75\n",
      "| epoch 559 |  iter 1 / 2 | time 0[s] | loss 0.60\n",
      "| epoch 560 |  iter 1 / 2 | time 0[s] | loss 0.53\n",
      "| epoch 561 |  iter 1 / 2 | time 0[s] | loss 0.73\n",
      "| epoch 562 |  iter 1 / 2 | time 0[s] | loss 0.57\n",
      "| epoch 563 |  iter 1 / 2 | time 0[s] | loss 0.73\n",
      "| epoch 564 |  iter 1 / 2 | time 0[s] | loss 0.69\n",
      "| epoch 565 |  iter 1 / 2 | time 0[s] | loss 0.66\n",
      "| epoch 566 |  iter 1 / 2 | time 0[s] | loss 0.73\n",
      "| epoch 567 |  iter 1 / 2 | time 0[s] | loss 0.53\n",
      "| epoch 568 |  iter 1 / 2 | time 0[s] | loss 0.63\n",
      "| epoch 569 |  iter 1 / 2 | time 0[s] | loss 0.82\n",
      "| epoch 570 |  iter 1 / 2 | time 0[s] | loss 0.63\n",
      "| epoch 571 |  iter 1 / 2 | time 0[s] | loss 0.62\n",
      "| epoch 572 |  iter 1 / 2 | time 0[s] | loss 0.63\n",
      "| epoch 573 |  iter 1 / 2 | time 0[s] | loss 0.75\n",
      "| epoch 574 |  iter 1 / 2 | time 0[s] | loss 0.50\n",
      "| epoch 575 |  iter 1 / 2 | time 0[s] | loss 0.75\n",
      "| epoch 576 |  iter 1 / 2 | time 0[s] | loss 0.63\n",
      "| epoch 577 |  iter 1 / 2 | time 0[s] | loss 0.68\n",
      "| epoch 578 |  iter 1 / 2 | time 0[s] | loss 0.69\n",
      "| epoch 579 |  iter 1 / 2 | time 0[s] | loss 0.62\n",
      "| epoch 580 |  iter 1 / 2 | time 0[s] | loss 0.72\n",
      "| epoch 581 |  iter 1 / 2 | time 0[s] | loss 0.72\n",
      "| epoch 582 |  iter 1 / 2 | time 0[s] | loss 0.37\n",
      "| epoch 583 |  iter 1 / 2 | time 0[s] | loss 0.72\n",
      "| epoch 584 |  iter 1 / 2 | time 0[s] | loss 0.72\n",
      "| epoch 585 |  iter 1 / 2 | time 0[s] | loss 0.58\n",
      "| epoch 586 |  iter 1 / 2 | time 0[s] | loss 0.87\n",
      "| epoch 587 |  iter 1 / 2 | time 0[s] | loss 0.49\n",
      "| epoch 588 |  iter 1 / 2 | time 0[s] | loss 0.65\n",
      "| epoch 589 |  iter 1 / 2 | time 0[s] | loss 0.58\n",
      "| epoch 590 |  iter 1 / 2 | time 0[s] | loss 0.65\n",
      "| epoch 591 |  iter 1 / 2 | time 0[s] | loss 0.65\n",
      "| epoch 592 |  iter 1 / 2 | time 0[s] | loss 0.65\n",
      "| epoch 593 |  iter 1 / 2 | time 0[s] | loss 0.87\n",
      "| epoch 594 |  iter 1 / 2 | time 0[s] | loss 0.49\n",
      "| epoch 595 |  iter 1 / 2 | time 0[s] | loss 0.65\n",
      "| epoch 596 |  iter 1 / 2 | time 0[s] | loss 0.61\n",
      "| epoch 597 |  iter 1 / 2 | time 0[s] | loss 0.75\n",
      "| epoch 598 |  iter 1 / 2 | time 0[s] | loss 0.51\n",
      "| epoch 599 |  iter 1 / 2 | time 0[s] | loss 0.78\n",
      "| epoch 600 |  iter 1 / 2 | time 0[s] | loss 0.68\n",
      "| epoch 601 |  iter 1 / 2 | time 0[s] | loss 0.58\n",
      "| epoch 602 |  iter 1 / 2 | time 0[s] | loss 0.64\n",
      "| epoch 603 |  iter 1 / 2 | time 0[s] | loss 0.64\n",
      "| epoch 604 |  iter 1 / 2 | time 0[s] | loss 0.62\n",
      "| epoch 605 |  iter 1 / 2 | time 0[s] | loss 0.71\n",
      "| epoch 606 |  iter 1 / 2 | time 0[s] | loss 0.64\n",
      "| epoch 607 |  iter 1 / 2 | time 0[s] | loss 0.51\n",
      "| epoch 608 |  iter 1 / 2 | time 0[s] | loss 0.64\n",
      "| epoch 609 |  iter 1 / 2 | time 0[s] | loss 0.80\n",
      "| epoch 610 |  iter 1 / 2 | time 0[s] | loss 0.64\n",
      "| epoch 611 |  iter 1 / 2 | time 0[s] | loss 0.48\n",
      "| epoch 612 |  iter 1 / 2 | time 0[s] | loss 0.77\n",
      "| epoch 613 |  iter 1 / 2 | time 0[s] | loss 0.51\n",
      "| epoch 614 |  iter 1 / 2 | time 0[s] | loss 0.73\n",
      "| epoch 615 |  iter 1 / 2 | time 0[s] | loss 0.70\n",
      "| epoch 616 |  iter 1 / 2 | time 0[s] | loss 0.61\n",
      "| epoch 617 |  iter 1 / 2 | time 0[s] | loss 0.60\n",
      "| epoch 618 |  iter 1 / 2 | time 0[s] | loss 0.54\n",
      "| epoch 619 |  iter 1 / 2 | time 0[s] | loss 0.64\n",
      "| epoch 620 |  iter 1 / 2 | time 0[s] | loss 0.64\n",
      "| epoch 621 |  iter 1 / 2 | time 0[s] | loss 0.67\n",
      "| epoch 622 |  iter 1 / 2 | time 0[s] | loss 0.77\n",
      "| epoch 623 |  iter 1 / 2 | time 0[s] | loss 0.47\n",
      "| epoch 624 |  iter 1 / 2 | time 0[s] | loss 0.80\n",
      "| epoch 625 |  iter 1 / 2 | time 0[s] | loss 0.53\n",
      "| epoch 626 |  iter 1 / 2 | time 0[s] | loss 0.57\n",
      "| epoch 627 |  iter 1 / 2 | time 0[s] | loss 0.67\n",
      "| epoch 628 |  iter 1 / 2 | time 0[s] | loss 0.73\n",
      "| epoch 629 |  iter 1 / 2 | time 0[s] | loss 0.67\n",
      "| epoch 630 |  iter 1 / 2 | time 0[s] | loss 0.63\n",
      "| epoch 631 |  iter 1 / 2 | time 0[s] | loss 0.63\n",
      "| epoch 632 |  iter 1 / 2 | time 0[s] | loss 0.63\n",
      "| epoch 633 |  iter 1 / 2 | time 0[s] | loss 0.53\n",
      "| epoch 634 |  iter 1 / 2 | time 0[s] | loss 0.56\n",
      "| epoch 635 |  iter 1 / 2 | time 0[s] | loss 0.67\n",
      "| epoch 636 |  iter 1 / 2 | time 0[s] | loss 0.60\n",
      "| epoch 637 |  iter 1 / 2 | time 0[s] | loss 0.73\n",
      "| epoch 638 |  iter 1 / 2 | time 0[s] | loss 0.59\n",
      "| epoch 639 |  iter 1 / 2 | time 0[s] | loss 0.60\n",
      "| epoch 640 |  iter 1 / 2 | time 0[s] | loss 0.76\n",
      "| epoch 641 |  iter 1 / 2 | time 0[s] | loss 0.63\n",
      "| epoch 642 |  iter 1 / 2 | time 0[s] | loss 0.53\n",
      "| epoch 643 |  iter 1 / 2 | time 0[s] | loss 0.66\n",
      "| epoch 644 |  iter 1 / 2 | time 0[s] | loss 0.56\n",
      "| epoch 645 |  iter 1 / 2 | time 0[s] | loss 0.59\n",
      "| epoch 646 |  iter 1 / 2 | time 0[s] | loss 0.86\n",
      "| epoch 647 |  iter 1 / 2 | time 0[s] | loss 0.46\n",
      "| epoch 648 |  iter 1 / 2 | time 0[s] | loss 0.56\n",
      "| epoch 649 |  iter 1 / 2 | time 0[s] | loss 0.69\n",
      "| epoch 650 |  iter 1 / 2 | time 0[s] | loss 0.65\n",
      "| epoch 651 |  iter 1 / 2 | time 0[s] | loss 0.56\n",
      "| epoch 652 |  iter 1 / 2 | time 0[s] | loss 0.69\n",
      "| epoch 653 |  iter 1 / 2 | time 0[s] | loss 0.66\n",
      "| epoch 654 |  iter 1 / 2 | time 0[s] | loss 0.66\n",
      "| epoch 655 |  iter 1 / 2 | time 0[s] | loss 0.39\n",
      "| epoch 656 |  iter 1 / 2 | time 0[s] | loss 0.69\n",
      "| epoch 657 |  iter 1 / 2 | time 0[s] | loss 0.69\n",
      "| epoch 658 |  iter 1 / 2 | time 0[s] | loss 0.62\n",
      "| epoch 659 |  iter 1 / 2 | time 0[s] | loss 0.56\n",
      "| epoch 660 |  iter 1 / 2 | time 0[s] | loss 0.72\n",
      "| epoch 661 |  iter 1 / 2 | time 0[s] | loss 0.59\n",
      "| epoch 662 |  iter 1 / 2 | time 0[s] | loss 0.55\n",
      "| epoch 663 |  iter 1 / 2 | time 0[s] | loss 0.66\n"
     ]
    },
    {
     "name": "stdout",
     "output_type": "stream",
     "text": [
      "| epoch 664 |  iter 1 / 2 | time 0[s] | loss 0.65\n",
      "| epoch 665 |  iter 1 / 2 | time 0[s] | loss 0.59\n",
      "| epoch 666 |  iter 1 / 2 | time 0[s] | loss 0.65\n",
      "| epoch 667 |  iter 1 / 2 | time 0[s] | loss 0.56\n",
      "| epoch 668 |  iter 1 / 2 | time 0[s] | loss 0.79\n",
      "| epoch 669 |  iter 1 / 2 | time 0[s] | loss 0.62\n",
      "| epoch 670 |  iter 1 / 2 | time 0[s] | loss 0.56\n",
      "| epoch 671 |  iter 1 / 2 | time 0[s] | loss 0.51\n",
      "| epoch 672 |  iter 1 / 2 | time 0[s] | loss 0.62\n",
      "| epoch 673 |  iter 1 / 2 | time 0[s] | loss 0.62\n",
      "| epoch 674 |  iter 1 / 2 | time 0[s] | loss 0.72\n",
      "| epoch 675 |  iter 1 / 2 | time 0[s] | loss 0.69\n",
      "| epoch 676 |  iter 1 / 2 | time 0[s] | loss 0.45\n",
      "| epoch 677 |  iter 1 / 2 | time 0[s] | loss 0.79\n",
      "| epoch 678 |  iter 1 / 2 | time 0[s] | loss 0.62\n",
      "| epoch 679 |  iter 1 / 2 | time 0[s] | loss 0.62\n",
      "| epoch 680 |  iter 1 / 2 | time 0[s] | loss 0.51\n",
      "| epoch 681 |  iter 1 / 2 | time 0[s] | loss 0.55\n",
      "| epoch 682 |  iter 1 / 2 | time 0[s] | loss 0.75\n",
      "| epoch 683 |  iter 1 / 2 | time 0[s] | loss 0.52\n",
      "| epoch 684 |  iter 1 / 2 | time 0[s] | loss 0.74\n",
      "| epoch 685 |  iter 1 / 2 | time 0[s] | loss 0.51\n",
      "| epoch 686 |  iter 1 / 2 | time 0[s] | loss 0.55\n",
      "| epoch 687 |  iter 1 / 2 | time 0[s] | loss 0.68\n",
      "| epoch 688 |  iter 1 / 2 | time 0[s] | loss 0.54\n",
      "| epoch 689 |  iter 1 / 2 | time 0[s] | loss 0.67\n",
      "| epoch 690 |  iter 1 / 2 | time 0[s] | loss 0.55\n",
      "| epoch 691 |  iter 1 / 2 | time 0[s] | loss 0.78\n",
      "| epoch 692 |  iter 1 / 2 | time 0[s] | loss 0.50\n",
      "| epoch 693 |  iter 1 / 2 | time 0[s] | loss 0.72\n",
      "| epoch 694 |  iter 1 / 2 | time 0[s] | loss 0.54\n",
      "| epoch 695 |  iter 1 / 2 | time 0[s] | loss 0.64\n",
      "| epoch 696 |  iter 1 / 2 | time 0[s] | loss 0.42\n",
      "| epoch 697 |  iter 1 / 2 | time 0[s] | loss 0.80\n",
      "| epoch 698 |  iter 1 / 2 | time 0[s] | loss 0.55\n",
      "| epoch 699 |  iter 1 / 2 | time 0[s] | loss 0.71\n",
      "| epoch 700 |  iter 1 / 2 | time 0[s] | loss 0.44\n",
      "| epoch 701 |  iter 1 / 2 | time 0[s] | loss 0.61\n",
      "| epoch 702 |  iter 1 / 2 | time 0[s] | loss 0.65\n",
      "| epoch 703 |  iter 1 / 2 | time 0[s] | loss 0.80\n",
      "| epoch 704 |  iter 1 / 2 | time 0[s] | loss 0.48\n",
      "| epoch 705 |  iter 1 / 2 | time 0[s] | loss 0.51\n",
      "| epoch 706 |  iter 1 / 2 | time 0[s] | loss 0.68\n",
      "| epoch 707 |  iter 1 / 2 | time 0[s] | loss 0.65\n",
      "| epoch 708 |  iter 1 / 2 | time 0[s] | loss 0.50\n",
      "| epoch 709 |  iter 1 / 2 | time 0[s] | loss 0.61\n",
      "| epoch 710 |  iter 1 / 2 | time 0[s] | loss 0.78\n",
      "| epoch 711 |  iter 1 / 2 | time 0[s] | loss 0.54\n",
      "| epoch 712 |  iter 1 / 2 | time 0[s] | loss 0.57\n",
      "| epoch 713 |  iter 1 / 2 | time 0[s] | loss 0.64\n",
      "| epoch 714 |  iter 1 / 2 | time 0[s] | loss 0.67\n",
      "| epoch 715 |  iter 1 / 2 | time 0[s] | loss 0.67\n",
      "| epoch 716 |  iter 1 / 2 | time 0[s] | loss 0.41\n",
      "| epoch 717 |  iter 1 / 2 | time 0[s] | loss 0.80\n",
      "| epoch 718 |  iter 1 / 2 | time 0[s] | loss 0.47\n",
      "| epoch 719 |  iter 1 / 2 | time 0[s] | loss 0.54\n",
      "| epoch 720 |  iter 1 / 2 | time 0[s] | loss 0.73\n",
      "| epoch 721 |  iter 1 / 2 | time 0[s] | loss 0.60\n",
      "| epoch 722 |  iter 1 / 2 | time 0[s] | loss 0.43\n",
      "| epoch 723 |  iter 1 / 2 | time 0[s] | loss 0.60\n",
      "| epoch 724 |  iter 1 / 2 | time 0[s] | loss 0.73\n",
      "| epoch 725 |  iter 1 / 2 | time 0[s] | loss 0.64\n",
      "| epoch 726 |  iter 1 / 2 | time 0[s] | loss 0.66\n",
      "| epoch 727 |  iter 1 / 2 | time 0[s] | loss 0.48\n",
      "| epoch 728 |  iter 1 / 2 | time 0[s] | loss 0.73\n",
      "| epoch 729 |  iter 1 / 2 | time 0[s] | loss 0.37\n",
      "| epoch 730 |  iter 1 / 2 | time 0[s] | loss 0.67\n",
      "| epoch 731 |  iter 1 / 2 | time 0[s] | loss 0.66\n",
      "| epoch 732 |  iter 1 / 2 | time 0[s] | loss 0.54\n",
      "| epoch 733 |  iter 1 / 2 | time 0[s] | loss 0.70\n",
      "| epoch 734 |  iter 1 / 2 | time 0[s] | loss 0.53\n",
      "| epoch 735 |  iter 1 / 2 | time 0[s] | loss 0.56\n",
      "| epoch 736 |  iter 1 / 2 | time 0[s] | loss 0.63\n",
      "| epoch 737 |  iter 1 / 2 | time 0[s] | loss 0.49\n",
      "| epoch 738 |  iter 1 / 2 | time 0[s] | loss 0.64\n",
      "| epoch 739 |  iter 1 / 2 | time 0[s] | loss 0.60\n",
      "| epoch 740 |  iter 1 / 2 | time 0[s] | loss 0.73\n",
      "| epoch 741 |  iter 1 / 2 | time 0[s] | loss 0.36\n",
      "| epoch 742 |  iter 1 / 2 | time 0[s] | loss 0.66\n",
      "| epoch 743 |  iter 1 / 2 | time 0[s] | loss 0.71\n",
      "| epoch 744 |  iter 1 / 2 | time 0[s] | loss 0.55\n",
      "| epoch 745 |  iter 1 / 2 | time 0[s] | loss 0.66\n",
      "| epoch 746 |  iter 1 / 2 | time 0[s] | loss 0.64\n",
      "| epoch 747 |  iter 1 / 2 | time 0[s] | loss 0.55\n",
      "| epoch 748 |  iter 1 / 2 | time 0[s] | loss 0.46\n",
      "| epoch 749 |  iter 1 / 2 | time 0[s] | loss 0.73\n",
      "| epoch 750 |  iter 1 / 2 | time 0[s] | loss 0.64\n",
      "| epoch 751 |  iter 1 / 2 | time 0[s] | loss 0.53\n",
      "| epoch 752 |  iter 1 / 2 | time 0[s] | loss 0.49\n",
      "| epoch 753 |  iter 1 / 2 | time 0[s] | loss 0.77\n",
      "| epoch 754 |  iter 1 / 2 | time 0[s] | loss 0.49\n",
      "| epoch 755 |  iter 1 / 2 | time 0[s] | loss 0.63\n",
      "| epoch 756 |  iter 1 / 2 | time 0[s] | loss 0.49\n",
      "| epoch 757 |  iter 1 / 2 | time 0[s] | loss 0.66\n",
      "| epoch 758 |  iter 1 / 2 | time 0[s] | loss 0.57\n",
      "| epoch 759 |  iter 1 / 2 | time 0[s] | loss 0.61\n",
      "| epoch 760 |  iter 1 / 2 | time 0[s] | loss 0.66\n",
      "| epoch 761 |  iter 1 / 2 | time 0[s] | loss 0.63\n",
      "| epoch 762 |  iter 1 / 2 | time 0[s] | loss 0.42\n",
      "| epoch 763 |  iter 1 / 2 | time 0[s] | loss 0.72\n",
      "| epoch 764 |  iter 1 / 2 | time 0[s] | loss 0.57\n",
      "| epoch 765 |  iter 1 / 2 | time 0[s] | loss 0.52\n",
      "| epoch 766 |  iter 1 / 2 | time 0[s] | loss 0.66\n",
      "| epoch 767 |  iter 1 / 2 | time 0[s] | loss 0.72\n",
      "| epoch 768 |  iter 1 / 2 | time 0[s] | loss 0.35\n",
      "| epoch 769 |  iter 1 / 2 | time 0[s] | loss 0.70\n",
      "| epoch 770 |  iter 1 / 2 | time 0[s] | loss 0.42\n",
      "| epoch 771 |  iter 1 / 2 | time 0[s] | loss 0.72\n",
      "| epoch 772 |  iter 1 / 2 | time 0[s] | loss 0.53\n",
      "| epoch 773 |  iter 1 / 2 | time 0[s] | loss 0.65\n",
      "| epoch 774 |  iter 1 / 2 | time 0[s] | loss 0.63\n",
      "| epoch 775 |  iter 1 / 2 | time 0[s] | loss 0.66\n",
      "| epoch 776 |  iter 1 / 2 | time 0[s] | loss 0.52\n",
      "| epoch 777 |  iter 1 / 2 | time 0[s] | loss 0.66\n",
      "| epoch 778 |  iter 1 / 2 | time 0[s] | loss 0.59\n",
      "| epoch 779 |  iter 1 / 2 | time 0[s] | loss 0.59\n",
      "| epoch 780 |  iter 1 / 2 | time 0[s] | loss 0.48\n",
      "| epoch 781 |  iter 1 / 2 | time 0[s] | loss 0.52\n",
      "| epoch 782 |  iter 1 / 2 | time 0[s] | loss 0.76\n",
      "| epoch 783 |  iter 1 / 2 | time 0[s] | loss 0.48\n",
      "| epoch 784 |  iter 1 / 2 | time 0[s] | loss 0.65\n",
      "| epoch 785 |  iter 1 / 2 | time 0[s] | loss 0.50\n",
      "| epoch 786 |  iter 1 / 2 | time 0[s] | loss 0.61\n",
      "| epoch 787 |  iter 1 / 2 | time 0[s] | loss 0.63\n",
      "| epoch 788 |  iter 1 / 2 | time 0[s] | loss 0.61\n",
      "| epoch 789 |  iter 1 / 2 | time 0[s] | loss 0.63\n",
      "| epoch 790 |  iter 1 / 2 | time 0[s] | loss 0.45\n",
      "| epoch 791 |  iter 1 / 2 | time 0[s] | loss 0.59\n",
      "| epoch 792 |  iter 1 / 2 | time 0[s] | loss 0.65\n",
      "| epoch 793 |  iter 1 / 2 | time 0[s] | loss 0.48\n",
      "| epoch 794 |  iter 1 / 2 | time 0[s] | loss 0.65\n",
      "| epoch 795 |  iter 1 / 2 | time 0[s] | loss 0.70\n",
      "| epoch 796 |  iter 1 / 2 | time 0[s] | loss 0.58\n",
      "| epoch 797 |  iter 1 / 2 | time 0[s] | loss 0.58\n",
      "| epoch 798 |  iter 1 / 2 | time 0[s] | loss 0.58\n",
      "| epoch 799 |  iter 1 / 2 | time 0[s] | loss 0.45\n",
      "| epoch 800 |  iter 1 / 2 | time 0[s] | loss 0.61\n",
      "| epoch 801 |  iter 1 / 2 | time 0[s] | loss 0.58\n",
      "| epoch 802 |  iter 1 / 2 | time 0[s] | loss 0.62\n",
      "| epoch 803 |  iter 1 / 2 | time 0[s] | loss 0.59\n",
      "| epoch 804 |  iter 1 / 2 | time 0[s] | loss 0.64\n",
      "| epoch 805 |  iter 1 / 2 | time 0[s] | loss 0.54\n",
      "| epoch 806 |  iter 1 / 2 | time 0[s] | loss 0.52\n",
      "| epoch 807 |  iter 1 / 2 | time 0[s] | loss 0.56\n",
      "| epoch 808 |  iter 1 / 2 | time 0[s] | loss 0.60\n",
      "| epoch 809 |  iter 1 / 2 | time 0[s] | loss 0.63\n",
      "| epoch 810 |  iter 1 / 2 | time 0[s] | loss 0.58\n",
      "| epoch 811 |  iter 1 / 2 | time 0[s] | loss 0.54\n",
      "| epoch 812 |  iter 1 / 2 | time 0[s] | loss 0.69\n",
      "| epoch 813 |  iter 1 / 2 | time 0[s] | loss 0.58\n",
      "| epoch 814 |  iter 1 / 2 | time 0[s] | loss 0.58\n",
      "| epoch 815 |  iter 1 / 2 | time 0[s] | loss 0.54\n",
      "| epoch 816 |  iter 1 / 2 | time 0[s] | loss 0.52\n",
      "| epoch 817 |  iter 1 / 2 | time 0[s] | loss 0.69\n",
      "| epoch 818 |  iter 1 / 2 | time 0[s] | loss 0.51\n",
      "| epoch 819 |  iter 1 / 2 | time 0[s] | loss 0.64\n",
      "| epoch 820 |  iter 1 / 2 | time 0[s] | loss 0.51\n",
      "| epoch 821 |  iter 1 / 2 | time 0[s] | loss 0.41\n",
      "| epoch 822 |  iter 1 / 2 | time 0[s] | loss 0.81\n",
      "| epoch 823 |  iter 1 / 2 | time 0[s] | loss 0.58\n",
      "| epoch 824 |  iter 1 / 2 | time 0[s] | loss 0.58\n",
      "| epoch 825 |  iter 1 / 2 | time 0[s] | loss 0.45\n",
      "| epoch 826 |  iter 1 / 2 | time 0[s] | loss 0.64\n",
      "| epoch 827 |  iter 1 / 2 | time 0[s] | loss 0.64\n",
      "| epoch 828 |  iter 1 / 2 | time 0[s] | loss 0.45\n",
      "| epoch 829 |  iter 1 / 2 | time 0[s] | loss 0.66\n",
      "| epoch 830 |  iter 1 / 2 | time 0[s] | loss 0.58\n",
      "| epoch 831 |  iter 1 / 2 | time 0[s] | loss 0.55\n",
      "| epoch 832 |  iter 1 / 2 | time 0[s] | loss 0.64\n",
      "| epoch 833 |  iter 1 / 2 | time 0[s] | loss 0.57\n",
      "| epoch 834 |  iter 1 / 2 | time 0[s] | loss 0.58\n",
      "| epoch 835 |  iter 1 / 2 | time 0[s] | loss 0.57\n",
      "| epoch 836 |  iter 1 / 2 | time 0[s] | loss 0.40\n",
      "| epoch 837 |  iter 1 / 2 | time 0[s] | loss 0.57\n",
      "| epoch 838 |  iter 1 / 2 | time 0[s] | loss 0.75\n",
      "| epoch 839 |  iter 1 / 2 | time 0[s] | loss 0.51\n",
      "| epoch 840 |  iter 1 / 2 | time 0[s] | loss 0.64\n",
      "| epoch 841 |  iter 1 / 2 | time 0[s] | loss 0.51\n",
      "| epoch 842 |  iter 1 / 2 | time 0[s] | loss 0.46\n",
      "| epoch 843 |  iter 1 / 2 | time 0[s] | loss 0.62\n",
      "| epoch 844 |  iter 1 / 2 | time 0[s] | loss 0.64\n",
      "| epoch 845 |  iter 1 / 2 | time 0[s] | loss 0.57\n",
      "| epoch 846 |  iter 1 / 2 | time 0[s] | loss 0.70\n",
      "| epoch 847 |  iter 1 / 2 | time 0[s] | loss 0.44\n",
      "| epoch 848 |  iter 1 / 2 | time 0[s] | loss 0.46\n",
      "| epoch 849 |  iter 1 / 2 | time 0[s] | loss 0.57\n",
      "| epoch 850 |  iter 1 / 2 | time 0[s] | loss 0.63\n",
      "| epoch 851 |  iter 1 / 2 | time 0[s] | loss 0.44\n",
      "| epoch 852 |  iter 1 / 2 | time 0[s] | loss 0.68\n",
      "| epoch 853 |  iter 1 / 2 | time 0[s] | loss 0.66\n",
      "| epoch 854 |  iter 1 / 2 | time 0[s] | loss 0.61\n",
      "| epoch 855 |  iter 1 / 2 | time 0[s] | loss 0.57\n",
      "| epoch 856 |  iter 1 / 2 | time 0[s] | loss 0.63\n",
      "| epoch 857 |  iter 1 / 2 | time 0[s] | loss 0.46\n",
      "| epoch 858 |  iter 1 / 2 | time 0[s] | loss 0.55\n",
      "| epoch 859 |  iter 1 / 2 | time 0[s] | loss 0.63\n",
      "| epoch 860 |  iter 1 / 2 | time 0[s] | loss 0.57\n",
      "| epoch 861 |  iter 1 / 2 | time 0[s] | loss 0.39\n",
      "| epoch 862 |  iter 1 / 2 | time 0[s] | loss 0.63\n",
      "| epoch 863 |  iter 1 / 2 | time 0[s] | loss 0.61\n",
      "| epoch 864 |  iter 1 / 2 | time 0[s] | loss 0.57\n",
      "| epoch 865 |  iter 1 / 2 | time 0[s] | loss 0.46\n",
      "| epoch 866 |  iter 1 / 2 | time 0[s] | loss 0.57\n",
      "| epoch 867 |  iter 1 / 2 | time 0[s] | loss 0.63\n",
      "| epoch 868 |  iter 1 / 2 | time 0[s] | loss 0.44\n",
      "| epoch 869 |  iter 1 / 2 | time 0[s] | loss 0.74\n",
      "| epoch 870 |  iter 1 / 2 | time 0[s] | loss 0.46\n",
      "| epoch 871 |  iter 1 / 2 | time 0[s] | loss 0.57\n",
      "| epoch 872 |  iter 1 / 2 | time 0[s] | loss 0.74\n",
      "| epoch 873 |  iter 1 / 2 | time 0[s] | loss 0.50\n",
      "| epoch 874 |  iter 1 / 2 | time 0[s] | loss 0.56\n",
      "| epoch 875 |  iter 1 / 2 | time 0[s] | loss 0.50\n",
      "| epoch 876 |  iter 1 / 2 | time 0[s] | loss 0.65\n",
      "| epoch 877 |  iter 1 / 2 | time 0[s] | loss 0.61\n",
      "| epoch 878 |  iter 1 / 2 | time 0[s] | loss 0.52\n",
      "| epoch 879 |  iter 1 / 2 | time 0[s] | loss 0.54\n",
      "| epoch 880 |  iter 1 / 2 | time 0[s] | loss 0.50\n",
      "| epoch 881 |  iter 1 / 2 | time 0[s] | loss 0.58\n",
      "| epoch 882 |  iter 1 / 2 | time 0[s] | loss 0.67\n",
      "| epoch 883 |  iter 1 / 2 | time 0[s] | loss 0.45\n",
      "| epoch 884 |  iter 1 / 2 | time 0[s] | loss 0.67\n",
      "| epoch 885 |  iter 1 / 2 | time 0[s] | loss 0.43\n",
      "| epoch 886 |  iter 1 / 2 | time 0[s] | loss 0.58\n",
      "| epoch 887 |  iter 1 / 2 | time 0[s] | loss 0.56\n",
      "| epoch 888 |  iter 1 / 2 | time 0[s] | loss 0.67\n",
      "| epoch 889 |  iter 1 / 2 | time 0[s] | loss 0.50\n",
      "| epoch 890 |  iter 1 / 2 | time 0[s] | loss 0.62\n",
      "| epoch 891 |  iter 1 / 2 | time 0[s] | loss 0.45\n",
      "| epoch 892 |  iter 1 / 2 | time 0[s] | loss 0.50\n",
      "| epoch 893 |  iter 1 / 2 | time 0[s] | loss 0.56\n",
      "| epoch 894 |  iter 1 / 2 | time 0[s] | loss 0.69\n",
      "| epoch 895 |  iter 1 / 2 | time 0[s] | loss 0.43\n",
      "| epoch 896 |  iter 1 / 2 | time 0[s] | loss 0.67\n",
      "| epoch 897 |  iter 1 / 2 | time 0[s] | loss 0.69\n",
      "| epoch 898 |  iter 1 / 2 | time 0[s] | loss 0.32\n",
      "| epoch 899 |  iter 1 / 2 | time 0[s] | loss 0.69\n",
      "| epoch 900 |  iter 1 / 2 | time 0[s] | loss 0.37\n",
      "| epoch 901 |  iter 1 / 2 | time 0[s] | loss 0.56\n",
      "| epoch 902 |  iter 1 / 2 | time 0[s] | loss 0.75\n",
      "| epoch 903 |  iter 1 / 2 | time 0[s] | loss 0.60\n",
      "| epoch 904 |  iter 1 / 2 | time 0[s] | loss 0.56\n",
      "| epoch 905 |  iter 1 / 2 | time 0[s] | loss 0.32\n"
     ]
    },
    {
     "name": "stdout",
     "output_type": "stream",
     "text": [
      "| epoch 906 |  iter 1 / 2 | time 0[s] | loss 0.69\n",
      "| epoch 907 |  iter 1 / 2 | time 0[s] | loss 0.67\n",
      "| epoch 908 |  iter 1 / 2 | time 0[s] | loss 0.56\n",
      "| epoch 909 |  iter 1 / 2 | time 0[s] | loss 0.38\n",
      "| epoch 910 |  iter 1 / 2 | time 0[s] | loss 0.73\n",
      "| epoch 911 |  iter 1 / 2 | time 0[s] | loss 0.39\n",
      "| epoch 912 |  iter 1 / 2 | time 0[s] | loss 0.68\n",
      "| epoch 913 |  iter 1 / 2 | time 0[s] | loss 0.43\n",
      "| epoch 914 |  iter 1 / 2 | time 0[s] | loss 0.68\n",
      "| epoch 915 |  iter 1 / 2 | time 0[s] | loss 0.43\n",
      "| epoch 916 |  iter 1 / 2 | time 0[s] | loss 0.66\n",
      "| epoch 917 |  iter 1 / 2 | time 0[s] | loss 0.62\n",
      "| epoch 918 |  iter 1 / 2 | time 0[s] | loss 0.49\n",
      "| epoch 919 |  iter 1 / 2 | time 0[s] | loss 0.38\n",
      "| epoch 920 |  iter 1 / 2 | time 0[s] | loss 0.79\n",
      "| epoch 921 |  iter 1 / 2 | time 0[s] | loss 0.51\n",
      "| epoch 922 |  iter 1 / 2 | time 0[s] | loss 0.55\n",
      "| epoch 923 |  iter 1 / 2 | time 0[s] | loss 0.36\n",
      "| epoch 924 |  iter 1 / 2 | time 0[s] | loss 0.79\n",
      "| epoch 925 |  iter 1 / 2 | time 0[s] | loss 0.38\n",
      "| epoch 926 |  iter 1 / 2 | time 0[s] | loss 0.60\n",
      "| epoch 927 |  iter 1 / 2 | time 0[s] | loss 0.51\n",
      "| epoch 928 |  iter 1 / 2 | time 0[s] | loss 0.61\n",
      "| epoch 929 |  iter 1 / 2 | time 0[s] | loss 0.49\n",
      "| epoch 930 |  iter 1 / 2 | time 0[s] | loss 0.68\n",
      "| epoch 931 |  iter 1 / 2 | time 0[s] | loss 0.53\n",
      "| epoch 932 |  iter 1 / 2 | time 0[s] | loss 0.61\n",
      "| epoch 933 |  iter 1 / 2 | time 0[s] | loss 0.38\n",
      "| epoch 934 |  iter 1 / 2 | time 0[s] | loss 0.55\n",
      "| epoch 935 |  iter 1 / 2 | time 0[s] | loss 0.72\n",
      "| epoch 936 |  iter 1 / 2 | time 0[s] | loss 0.62\n",
      "| epoch 937 |  iter 1 / 2 | time 0[s] | loss 0.48\n",
      "| epoch 938 |  iter 1 / 2 | time 0[s] | loss 0.49\n",
      "| epoch 939 |  iter 1 / 2 | time 0[s] | loss 0.61\n",
      "| epoch 940 |  iter 1 / 2 | time 0[s] | loss 0.51\n",
      "| epoch 941 |  iter 1 / 2 | time 0[s] | loss 0.48\n",
      "| epoch 942 |  iter 1 / 2 | time 0[s] | loss 0.49\n",
      "| epoch 943 |  iter 1 / 2 | time 0[s] | loss 0.72\n",
      "| epoch 944 |  iter 1 / 2 | time 0[s] | loss 0.42\n",
      "| epoch 945 |  iter 1 / 2 | time 0[s] | loss 0.63\n",
      "| epoch 946 |  iter 1 / 2 | time 0[s] | loss 0.47\n",
      "| epoch 947 |  iter 1 / 2 | time 0[s] | loss 0.50\n",
      "| epoch 948 |  iter 1 / 2 | time 0[s] | loss 0.48\n",
      "| epoch 949 |  iter 1 / 2 | time 0[s] | loss 0.66\n",
      "| epoch 950 |  iter 1 / 2 | time 0[s] | loss 0.44\n",
      "| epoch 951 |  iter 1 / 2 | time 0[s] | loss 0.68\n",
      "| epoch 952 |  iter 1 / 2 | time 0[s] | loss 0.41\n",
      "| epoch 953 |  iter 1 / 2 | time 0[s] | loss 0.61\n",
      "| epoch 954 |  iter 1 / 2 | time 0[s] | loss 0.59\n",
      "| epoch 955 |  iter 1 / 2 | time 0[s] | loss 0.55\n",
      "| epoch 956 |  iter 1 / 2 | time 0[s] | loss 0.50\n",
      "| epoch 957 |  iter 1 / 2 | time 0[s] | loss 0.78\n",
      "| epoch 958 |  iter 1 / 2 | time 0[s] | loss 0.43\n",
      "| epoch 959 |  iter 1 / 2 | time 0[s] | loss 0.42\n",
      "| epoch 960 |  iter 1 / 2 | time 0[s] | loss 0.54\n",
      "| epoch 961 |  iter 1 / 2 | time 0[s] | loss 0.54\n",
      "| epoch 962 |  iter 1 / 2 | time 0[s] | loss 0.65\n",
      "| epoch 963 |  iter 1 / 2 | time 0[s] | loss 0.60\n",
      "| epoch 964 |  iter 1 / 2 | time 0[s] | loss 0.54\n",
      "| epoch 965 |  iter 1 / 2 | time 0[s] | loss 0.31\n",
      "| epoch 966 |  iter 1 / 2 | time 0[s] | loss 0.72\n",
      "| epoch 967 |  iter 1 / 2 | time 0[s] | loss 0.53\n",
      "| epoch 968 |  iter 1 / 2 | time 0[s] | loss 0.57\n",
      "| epoch 969 |  iter 1 / 2 | time 0[s] | loss 0.46\n",
      "| epoch 970 |  iter 1 / 2 | time 0[s] | loss 0.50\n",
      "| epoch 971 |  iter 1 / 2 | time 0[s] | loss 0.47\n",
      "| epoch 972 |  iter 1 / 2 | time 0[s] | loss 0.61\n",
      "| epoch 973 |  iter 1 / 2 | time 0[s] | loss 0.71\n",
      "| epoch 974 |  iter 1 / 2 | time 0[s] | loss 0.54\n",
      "| epoch 975 |  iter 1 / 2 | time 0[s] | loss 0.42\n",
      "| epoch 976 |  iter 1 / 2 | time 0[s] | loss 0.66\n",
      "| epoch 977 |  iter 1 / 2 | time 0[s] | loss 0.48\n",
      "| epoch 978 |  iter 1 / 2 | time 0[s] | loss 0.53\n",
      "| epoch 979 |  iter 1 / 2 | time 0[s] | loss 0.48\n",
      "| epoch 980 |  iter 1 / 2 | time 0[s] | loss 0.56\n",
      "| epoch 981 |  iter 1 / 2 | time 0[s] | loss 0.64\n",
      "| epoch 982 |  iter 1 / 2 | time 0[s] | loss 0.37\n",
      "| epoch 983 |  iter 1 / 2 | time 0[s] | loss 0.59\n",
      "| epoch 984 |  iter 1 / 2 | time 0[s] | loss 0.53\n",
      "| epoch 985 |  iter 1 / 2 | time 0[s] | loss 0.61\n",
      "| epoch 986 |  iter 1 / 2 | time 0[s] | loss 0.59\n",
      "| epoch 987 |  iter 1 / 2 | time 0[s] | loss 0.41\n",
      "| epoch 988 |  iter 1 / 2 | time 0[s] | loss 0.62\n",
      "| epoch 989 |  iter 1 / 2 | time 0[s] | loss 0.41\n",
      "| epoch 990 |  iter 1 / 2 | time 0[s] | loss 0.54\n",
      "| epoch 991 |  iter 1 / 2 | time 0[s] | loss 0.54\n",
      "| epoch 992 |  iter 1 / 2 | time 0[s] | loss 0.59\n",
      "| epoch 993 |  iter 1 / 2 | time 0[s] | loss 0.59\n",
      "| epoch 994 |  iter 1 / 2 | time 0[s] | loss 0.66\n",
      "| epoch 995 |  iter 1 / 2 | time 0[s] | loss 0.36\n",
      "| epoch 996 |  iter 1 / 2 | time 0[s] | loss 0.48\n",
      "| epoch 997 |  iter 1 / 2 | time 0[s] | loss 0.59\n",
      "| epoch 998 |  iter 1 / 2 | time 0[s] | loss 0.55\n",
      "| epoch 999 |  iter 1 / 2 | time 0[s] | loss 0.56\n",
      "| epoch 1000 |  iter 1 / 2 | time 0[s] | loss 0.49\n"
     ]
    }
   ],
   "source": [
    "trainer.fit(contexts, target, max_epoch, batch_size)"
   ]
  },
  {
   "cell_type": "code",
   "execution_count": 42,
   "metadata": {
    "ExecuteTime": {
     "end_time": "2019-05-04T05:39:49.905629Z",
     "start_time": "2019-05-04T05:39:49.646818Z"
    }
   },
   "outputs": [
    {
     "data": {
      "image/png": "[encoded data removed]",
      "text/plain": [
       "<Figure size 432x288 with 1 Axes>"
      ]
     },
     "metadata": {
      "needs_background": "light"
     },
     "output_type": "display_data"
    }
   ],
   "source": [
    "trainer.plot()"
   ]
  },
  {
   "cell_type": "code",
   "execution_count": 44,
   "metadata": {
    "ExecuteTime": {
     "end_time": "2019-05-04T11:12:25.655786Z",
     "start_time": "2019-05-04T11:12:25.648680Z"
    }
   },
   "outputs": [
    {
     "name": "stdout",
     "output_type": "stream",
     "text": [
      "you [ 0.95485765  1.412862   -1.0217941   1.0618172   1.2536687 ]\n",
      "say [-1.2102517  -0.02715805  1.2408004  -1.2167244  -0.12429754]\n",
      "goodbye [ 1.0467042   0.40150106 -0.9073453   0.8858506   0.62997675]\n",
      "and [-1.0185102  1.653024   1.0393983 -1.0264705  1.6828569]\n",
      "i [ 1.0719883   0.42653477 -0.9278393   0.91068196  0.65510094]\n",
      "hello [ 0.9388703  1.4064885 -1.0075836  1.0596321  1.2504405]\n",
      ". [-1.0963067 -1.40362    1.0853074 -1.081416  -1.4235802]\n"
     ]
    }
   ],
   "source": [
    "word_vecs = model.word_vecs\n",
    "for word_id, word in id_to_word.items():\n",
    "    print(word, word_vecs[word_id])"
   ]
  },
  {
   "cell_type": "markdown",
   "metadata": {},
   "source": [
    "## word2vecに関する補足"
   ]
  },
  {
   "cell_type": "markdown",
   "metadata": {},
   "source": [
    "### CBOWモデルと確率"
   ]
  },
  {
   "cell_type": "markdown",
   "metadata": {},
   "source": [
    "### skip-gramモデル"
   ]
  },
  {
   "cell_type": "markdown",
   "metadata": {},
   "source": [
    "### カウントベース v.s. 推論ベース"
   ]
  },
  {
   "cell_type": "markdown",
   "metadata": {},
   "source": [
    "## まとめ"
   ]
  },
  {
   "cell_type": "code",
   "execution_count": null,
   "metadata": {},
   "outputs": [],
   "source": []
  }
 ],
 "metadata": {
  "kernelspec": {
   "display_name": "Python 3",
   "language": "python",
   "name": "python3"
  },
  "language_info": {
   "codemirror_mode": {
    "name": "ipython",
    "version": 3
   },
   "file_extension": ".py",
   "mimetype": "text/x-python",
   "name": "python",
   "nbconvert_exporter": "python",
   "pygments_lexer": "ipython3",
   "version": "3.6.7"
  },
  "toc": {
   "base_numbering": 1,
   "nav_menu": {},
   "number_sections": true,
   "sideBar": true,
   "skip_h1_title": false,
   "title_cell": "Table of Contents",
   "title_sidebar": "Contents",
   "toc_cell": false,
   "toc_position": {},
   "toc_section_display": true,
   "toc_window_display": false
  }
 },
 "nbformat": 4,
 "nbformat_minor": 2
}
